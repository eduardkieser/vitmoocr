{
 "cells": [
  {
   "cell_type": "code",
   "execution_count": 27,
   "metadata": {},
   "outputs": [
    {
     "name": "stdout",
     "output_type": "stream",
     "text": [
      "/Users/eduard/.pyenv/versions/3.6.8/envs/keras36/bin/python\n"
     ]
    }
   ],
   "source": [
    "import sys\n",
    "print(sys.executable)\n",
    "import numpy as np\n",
    "import tensorflow as tf\n",
    "from tensorflow.keras.callbacks import ModelCheckpoint, TensorBoard\n",
    "import os\n",
    "from time import time\n",
    "import pandas as pd\n",
    "from glob import glob\n",
    "from KerasOCRTrainer2 import *\n",
    "from tensorflow.keras.layers import Conv2D, MaxPooling2D, Input, Dense, Flatten\n",
    "from tensorflow.keras.models import Model\n",
    "from tensorflow import keras"
   ]
  },
  {
   "cell_type": "markdown",
   "metadata": {},
   "source": [
    "# Create df to flow from"
   ]
  },
  {
   "cell_type": "code",
   "execution_count": 15,
   "metadata": {},
   "outputs": [],
   "source": [
    "# ubuntu\n",
    "#file_list = glob('/home/eduard/workspace/VitmoOCR/vitmo_video_data/data/*/*.png')\n",
    "# mac\n",
    "file_list = glob('/Users/eduard/workspaces/ml_projects/keras/VitmoOCR/data/*/*.png')\n",
    "df_lst = []\n",
    "for file_path in file_list:\n",
    "    label = file_path.split('/')[-2]\n",
    "    alt_label = label\n",
    "    while len(alt_label)<3:\n",
    "        alt_label = ' '+alt_label\n",
    "    if alt_label == 'nan':\n",
    "        alt_label = '   '\n",
    "        \n",
    "    l1,l2,l3 = alt_label\n",
    "    \n",
    "    df_lst.append({\n",
    "        'file_path': file_path,\n",
    "        'single_label':label,\n",
    "        'multi_label':(l1,l2,l3)\n",
    "    }\n",
    "    )\n",
    "    \n",
    "df = pd.DataFrame(df_lst)"
   ]
  },
  {
   "cell_type": "code",
   "execution_count": 18,
   "metadata": {},
   "outputs": [
    {
     "data": {
      "text/html": [
       "<div>\n",
       "<style scoped>\n",
       "    .dataframe tbody tr th:only-of-type {\n",
       "        vertical-align: middle;\n",
       "    }\n",
       "\n",
       "    .dataframe tbody tr th {\n",
       "        vertical-align: top;\n",
       "    }\n",
       "\n",
       "    .dataframe thead th {\n",
       "        text-align: right;\n",
       "    }\n",
       "</style>\n",
       "<table border=\"1\" class=\"dataframe\">\n",
       "  <thead>\n",
       "    <tr style=\"text-align: right;\">\n",
       "      <th></th>\n",
       "      <th>file_path</th>\n",
       "      <th>single_label</th>\n",
       "      <th>multi_label</th>\n",
       "    </tr>\n",
       "  </thead>\n",
       "  <tbody>\n",
       "    <tr>\n",
       "      <th>0</th>\n",
       "      <td>/Users/eduard/workspaces/ml_projects/keras/Vit...</td>\n",
       "      <td>135</td>\n",
       "      <td>(1, 3, 5)</td>\n",
       "    </tr>\n",
       "    <tr>\n",
       "      <th>1</th>\n",
       "      <td>/Users/eduard/workspaces/ml_projects/keras/Vit...</td>\n",
       "      <td>135</td>\n",
       "      <td>(1, 3, 5)</td>\n",
       "    </tr>\n",
       "    <tr>\n",
       "      <th>2</th>\n",
       "      <td>/Users/eduard/workspaces/ml_projects/keras/Vit...</td>\n",
       "      <td>135</td>\n",
       "      <td>(1, 3, 5)</td>\n",
       "    </tr>\n",
       "    <tr>\n",
       "      <th>3</th>\n",
       "      <td>/Users/eduard/workspaces/ml_projects/keras/Vit...</td>\n",
       "      <td>135</td>\n",
       "      <td>(1, 3, 5)</td>\n",
       "    </tr>\n",
       "    <tr>\n",
       "      <th>4</th>\n",
       "      <td>/Users/eduard/workspaces/ml_projects/keras/Vit...</td>\n",
       "      <td>135</td>\n",
       "      <td>(1, 3, 5)</td>\n",
       "    </tr>\n",
       "  </tbody>\n",
       "</table>\n",
       "</div>"
      ],
      "text/plain": [
       "                                           file_path single_label multi_label\n",
       "0  /Users/eduard/workspaces/ml_projects/keras/Vit...          135   (1, 3, 5)\n",
       "1  /Users/eduard/workspaces/ml_projects/keras/Vit...          135   (1, 3, 5)\n",
       "2  /Users/eduard/workspaces/ml_projects/keras/Vit...          135   (1, 3, 5)\n",
       "3  /Users/eduard/workspaces/ml_projects/keras/Vit...          135   (1, 3, 5)\n",
       "4  /Users/eduard/workspaces/ml_projects/keras/Vit...          135   (1, 3, 5)"
      ]
     },
     "execution_count": 18,
     "metadata": {},
     "output_type": "execute_result"
    }
   ],
   "source": [
    "df = df.drop_duplicates(subset='file_path')\n",
    "df.head()"
   ]
  },
  {
   "cell_type": "code",
   "execution_count": 29,
   "metadata": {},
   "outputs": [
    {
     "name": "stdout",
     "output_type": "stream",
     "text": [
      "Found 1121 validated image filenames belonging to 11 classes.\n",
      "Found 3366 validated image filenames belonging to 11 classes.\n"
     ]
    }
   ],
   "source": [
    "im_size = 48\n",
    "ks = 3\n",
    "\n",
    "train_datagen = tf.keras.preprocessing.image.ImageDataGenerator(\n",
    "    rescale=1./255,\n",
    "    shear_range=0.2,\n",
    "    # zoom_range=0.2,\n",
    "    horizontal_flip=False,\n",
    "    validation_split=0.25\n",
    ")\n",
    "\n",
    "train_generator = train_datagen.flow_from_dataframe(\n",
    "    df, directory='/', x_col='file_path', y_col='multi_label',\n",
    "    target_size=(im_size, im_size), color_mode='rgb', class_mode='categorical', \n",
    "    subset=\"validation\",\n",
    "    batch_size=32, seed=42)\n",
    "\n",
    "valid_generator = train_datagen.flow_from_dataframe(\n",
    "    df, directory='/', x_col='file_path', y_col='multi_label',\n",
    "    target_size=(im_size, im_size), color_mode='rgb', class_mode='categorical', \n",
    "    subset=\"training\",\n",
    "    batch_size=32, seed=42)"
   ]
  },
  {
   "cell_type": "code",
   "execution_count": 30,
   "metadata": {},
   "outputs": [],
   "source": [
    "input_img = Input(shape=(im_size, im_size, 3))\n",
    "conv1 = Conv2D(64, (1, 1), padding='same', activation='relu')(input_img)\n",
    "conv1 = Conv2D(64, (ks, ks), strides=2, padding='same', activation='relu')(conv1)\n",
    "conv2 = Conv2D(32, (ks, ks), strides=2, padding='same', activation='relu')(conv1)\n",
    "flat1  = Flatten()(conv2)\n",
    "dense1 = Dense(512,activation='relu')(flat1)\n",
    "out1 = Dense(11,activation='softmax')(dense1)\n",
    "out2 = Dense(11,activation='softmax')(dense1)\n",
    "out3 = Dense(11,activation='softmax')(dense1)\n",
    "\n",
    "model = Model(inputs = input_img, outputs=dense1)"
   ]
  },
  {
   "cell_type": "code",
   "execution_count": 31,
   "metadata": {},
   "outputs": [
    {
     "name": "stdout",
     "output_type": "stream",
     "text": [
      "Failed to import pydot. You must install pydot and graphviz for `pydotprint` to work.\n"
     ]
    }
   ],
   "source": [
    "keras.utils.plot_model(model, 'multi_input_and_output_model.png', show_shapes=True)"
   ]
  },
  {
   "cell_type": "code",
   "execution_count": 32,
   "metadata": {},
   "outputs": [
    {
     "name": "stdout",
     "output_type": "stream",
     "text": [
      "Model: \"model\"\n",
      "_________________________________________________________________\n",
      "Layer (type)                 Output Shape              Param #   \n",
      "=================================================================\n",
      "input_3 (InputLayer)         [(None, 48, 48, 3)]       0         \n",
      "_________________________________________________________________\n",
      "conv2d_2 (Conv2D)            (None, 48, 48, 64)        256       \n",
      "_________________________________________________________________\n",
      "conv2d_3 (Conv2D)            (None, 24, 24, 64)        36928     \n",
      "_________________________________________________________________\n",
      "conv2d_4 (Conv2D)            (None, 12, 12, 32)        18464     \n",
      "_________________________________________________________________\n",
      "flatten (Flatten)            (None, 4608)              0         \n",
      "_________________________________________________________________\n",
      "dense (Dense)                (None, 512)               2359808   \n",
      "=================================================================\n",
      "Total params: 2,415,456\n",
      "Trainable params: 2,415,456\n",
      "Non-trainable params: 0\n",
      "_________________________________________________________________\n"
     ]
    }
   ],
   "source": [
    "model.summary()"
   ]
  },
  {
   "cell_type": "code",
   "execution_count": null,
   "metadata": {},
   "outputs": [],
   "source": []
  }
 ],
 "metadata": {
  "kernelspec": {
   "display_name": "keras36",
   "language": "python",
   "name": "keras36"
  },
  "language_info": {
   "codemirror_mode": {
    "name": "ipython",
    "version": 3
   },
   "file_extension": ".py",
   "mimetype": "text/x-python",
   "name": "python",
   "nbconvert_exporter": "python",
   "pygments_lexer": "ipython3",
   "version": "3.6.8"
  }
 },
 "nbformat": 4,
 "nbformat_minor": 4
}
