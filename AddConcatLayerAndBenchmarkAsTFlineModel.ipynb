{
 "cells": [
  {
   "cell_type": "code",
   "execution_count": 2,
   "metadata": {},
   "outputs": [
    {
     "name": "stdout",
     "output_type": "stream",
     "text": [
      "/Users/eduard/.pyenv/versions/3.6.8/envs/keras36/bin/python\n"
     ]
    }
   ],
   "source": [
    "from tensorflow.keras.models import load_model\n",
    "import sys\n",
    "print(sys.executable)\n",
    "import numpy as np\n",
    "import tensorflow as tf\n",
    "from tensorflow.keras.callbacks import ModelCheckpoint, TensorBoard\n",
    "import os\n",
    "from time import time\n",
    "import pandas as pd\n",
    "from glob import glob\n",
    "from KerasOCRTrainer2 import *\n",
    "from tensorflow.keras.layers import Conv2D, MaxPooling2D, Input, Dense, Flatten, Dropout, concatenate\n",
    "from tensorflow.keras.models import Model\n",
    "from tensorflow.keras import regularizers, optimizers\n",
    "from tensorflow import keras\n",
    "from tensorflow.keras.layers import Lambda\n",
    "from sklearn.preprocessing import LabelBinarizer\n",
    "from sklearn.preprocessing import OneHotEncoder\n",
    "import cv2\n",
    "from PIL import Image\n",
    "from random import shuffle"
   ]
  },
  {
   "cell_type": "code",
   "execution_count": 4,
   "metadata": {},
   "outputs": [],
   "source": [
    "model = load_model('models/ep46-va0.36.hdf5')"
   ]
  },
  {
   "cell_type": "code",
   "execution_count": 5,
   "metadata": {},
   "outputs": [
    {
     "name": "stdout",
     "output_type": "stream",
     "text": [
      "Model: \"model\"\n",
      "__________________________________________________________________________________________________\n",
      "Layer (type)                    Output Shape         Param #     Connected to                     \n",
      "==================================================================================================\n",
      "input_1 (InputLayer)            [(None, 48, 48, 3)]  0                                            \n",
      "__________________________________________________________________________________________________\n",
      "conv2d (Conv2D)                 (None, 24, 24, 32)   2432        input_1[0][0]                    \n",
      "__________________________________________________________________________________________________\n",
      "dropout (Dropout)               (None, 24, 24, 32)   0           conv2d[0][0]                     \n",
      "__________________________________________________________________________________________________\n",
      "conv2d_1 (Conv2D)               (None, 12, 12, 32)   25632       dropout[0][0]                    \n",
      "__________________________________________________________________________________________________\n",
      "dropout_1 (Dropout)             (None, 12, 12, 32)   0           conv2d_1[0][0]                   \n",
      "__________________________________________________________________________________________________\n",
      "conv2d_2 (Conv2D)               (None, 6, 6, 32)     25632       dropout_1[0][0]                  \n",
      "__________________________________________________________________________________________________\n",
      "flatten (Flatten)               (None, 1152)         0           conv2d_2[0][0]                   \n",
      "__________________________________________________________________________________________________\n",
      "num1 (Dense)                    (None, 11)           12683       flatten[0][0]                    \n",
      "__________________________________________________________________________________________________\n",
      "num2 (Dense)                    (None, 11)           12683       flatten[0][0]                    \n",
      "__________________________________________________________________________________________________\n",
      "num3 (Dense)                    (None, 11)           12683       flatten[0][0]                    \n",
      "==================================================================================================\n",
      "Total params: 91,745\n",
      "Trainable params: 91,745\n",
      "Non-trainable params: 0\n",
      "__________________________________________________________________________________________________\n"
     ]
    }
   ],
   "source": [
    "model.summary()"
   ]
  },
  {
   "cell_type": "code",
   "execution_count": 6,
   "metadata": {},
   "outputs": [],
   "source": [
    "input_img = model.get_layer('input_1').input\n",
    "num1 = model.get_layer('num1').output\n",
    "num2 = model.get_layer('num2').output\n",
    "num3 = model.get_layer('num3').output\n",
    "out = concatenate([num1,num2,num3],axis=1)\n",
    "model2 = Model(inputs=input_img,outputs = out)\n",
    "# model2.compile(optimizers.Adam(lr=0.001),loss=[\"categorical_crossentropy\"])"
   ]
  },
  {
   "cell_type": "code",
   "execution_count": 7,
   "metadata": {},
   "outputs": [
    {
     "name": "stdout",
     "output_type": "stream",
     "text": [
      "Model: \"model\"\n",
      "__________________________________________________________________________________________________\n",
      "Layer (type)                    Output Shape         Param #     Connected to                     \n",
      "==================================================================================================\n",
      "input_1 (InputLayer)            [(None, 48, 48, 3)]  0                                            \n",
      "__________________________________________________________________________________________________\n",
      "conv2d (Conv2D)                 (None, 24, 24, 32)   2432        input_1[0][0]                    \n",
      "__________________________________________________________________________________________________\n",
      "dropout (Dropout)               (None, 24, 24, 32)   0           conv2d[0][0]                     \n",
      "__________________________________________________________________________________________________\n",
      "conv2d_1 (Conv2D)               (None, 12, 12, 32)   25632       dropout[0][0]                    \n",
      "__________________________________________________________________________________________________\n",
      "dropout_1 (Dropout)             (None, 12, 12, 32)   0           conv2d_1[0][0]                   \n",
      "__________________________________________________________________________________________________\n",
      "conv2d_2 (Conv2D)               (None, 6, 6, 32)     25632       dropout_1[0][0]                  \n",
      "__________________________________________________________________________________________________\n",
      "flatten (Flatten)               (None, 1152)         0           conv2d_2[0][0]                   \n",
      "__________________________________________________________________________________________________\n",
      "num1 (Dense)                    (None, 11)           12683       flatten[0][0]                    \n",
      "__________________________________________________________________________________________________\n",
      "num2 (Dense)                    (None, 11)           12683       flatten[0][0]                    \n",
      "__________________________________________________________________________________________________\n",
      "num3 (Dense)                    (None, 11)           12683       flatten[0][0]                    \n",
      "__________________________________________________________________________________________________\n",
      "concatenate (Concatenate)       (None, 33)           0           num1[0][0]                       \n",
      "                                                                 num2[0][0]                       \n",
      "                                                                 num3[0][0]                       \n",
      "==================================================================================================\n",
      "Total params: 91,745\n",
      "Trainable params: 91,745\n",
      "Non-trainable params: 0\n",
      "__________________________________________________________________________________________________\n"
     ]
    }
   ],
   "source": [
    "model2.summary()"
   ]
  },
  {
   "cell_type": "code",
   "execution_count": 9,
   "metadata": {},
   "outputs": [],
   "source": [
    "acc = .95\n",
    "model_name =     f'recombined_models/dragon_mini_32_48_{int(acc*100)}.h5'\n",
    "tf_lite_model_name = f'tflite_models/dragon_mini_32_48_{int(acc*100)}.tflite'\n",
    "model2.save(model_name)"
   ]
  },
  {
   "cell_type": "code",
   "execution_count": 10,
   "metadata": {},
   "outputs": [
    {
     "name": "stderr",
     "output_type": "stream",
     "text": [
      "W0823 08:36:00.835426 4770354624 hdf5_format.py:221] No training configuration found in save file: the model was *not* compiled. Compile it manually.\n",
      "W0823 08:36:00.854777 4770354624 deprecation.py:323] From /Users/eduard/.pyenv/versions/3.6.8/envs/keras36/lib/python3.6/site-packages/tensorflow/lite/python/util.py:238: convert_variables_to_constants (from tensorflow.python.framework.graph_util_impl) is deprecated and will be removed in a future version.\n",
      "Instructions for updating:\n",
      "Use `tf.compat.v1.graph_util.convert_variables_to_constants`\n",
      "W0823 08:36:00.855683 4770354624 deprecation.py:323] From /Users/eduard/.pyenv/versions/3.6.8/envs/keras36/lib/python3.6/site-packages/tensorflow/python/framework/graph_util_impl.py:270: extract_sub_graph (from tensorflow.python.framework.graph_util_impl) is deprecated and will be removed in a future version.\n",
      "Instructions for updating:\n",
      "Use `tf.compat.v1.graph_util.extract_sub_graph`\n"
     ]
    },
    {
     "data": {
      "text/plain": [
       "369752"
      ]
     },
     "execution_count": 10,
     "metadata": {},
     "output_type": "execute_result"
    }
   ],
   "source": [
    "# Convert to TensorFlow Lite model.\n",
    "converter = tf.lite.TFLiteConverter.from_keras_model_file(model_name)\n",
    "tf_lite_model = converter.convert()\n",
    "open(tf_lite_model_name, \"wb\").write(tf_lite_model)"
   ]
  },
  {
   "cell_type": "code",
   "execution_count": 11,
   "metadata": {},
   "outputs": [],
   "source": [
    "def reverse_one_hot(one_hot):\n",
    "    one_hot = one_hot.reshape(3,11)\n",
    "    categories = [' ','0','1','2','3','4','5','6','7','8','9']\n",
    "    ix0 = one_hot[0].tolist().index(1)\n",
    "    ix1 = one_hot[1].tolist().index(1)\n",
    "    ix2 = one_hot[2].tolist().index(1)\n",
    "    res = categories[ix0]+categories[ix1]+categories[ix2]\n",
    "    return res"
   ]
  },
  {
   "cell_type": "code",
   "execution_count": 12,
   "metadata": {},
   "outputs": [
    {
     "name": "stdout",
     "output_type": "stream",
     "text": [
      "input tensor shape: [ 1 48 48  3]\n",
      " ix:147061 acc: 0.9490578663755151"
     ]
    }
   ],
   "source": [
    "file_list = glob('/Users/eduard/workspaces/ml_projects/keras/VitmoOCR/data2/*/*.png')\n",
    "shuffle(file_list)\n",
    "\n",
    "interpreter = tf.compat.v2.lite.Interpreter(model_path=tf_lite_model_name)\n",
    "interpreter.allocate_tensors()\n",
    "# Get input and output tensors.\n",
    "input_details = interpreter.get_input_details()\n",
    "output_details = interpreter.get_output_details()\n",
    "# Test model on random input data.\n",
    "input_shape = input_details[0]['shape']\n",
    "print(f'input tensor shape: {input_shape}')\n",
    "\n",
    "files = file_list\n",
    "shuffle(files)\n",
    "incorrect_classes = []\n",
    "all_classes = []\n",
    "n_correct = 0\n",
    "n_incorrect = 0\n",
    "\n",
    "for ix, file in enumerate(files):\n",
    "\n",
    "    img = Image.open(file)\n",
    "    img = img.resize((48, 48))\n",
    "    np_img = np.array(img, dtype=np.float32).reshape(*input_shape)\n",
    "    img_mean = np.mean(np_img)\n",
    "    img_std = np.std(np_img)\n",
    "\n",
    "    np_img = np_img/255\n",
    "    interpreter.set_tensor(input_details[0]['index'], np_img)\n",
    "    interpreter.invoke()\n",
    "    output_data = interpreter.get_tensor(output_details[0]['index'])\n",
    "    output_data = (output_data>0.5).astype(int)\n",
    "    try:\n",
    "        res = reverse_one_hot(output_data)\n",
    "    except:\n",
    "#         print(f'rev_oh failed for {file}')\n",
    "        continue\n",
    "    lable = file.split('/')[-2].rjust(3)\n",
    "#     if res=='   ' or lable=='nan':\n",
    "#         print(f'res: |{res}|, lab: |{lable}|')\n",
    "    if res=='   ':\n",
    "        res = 'nan'\n",
    "\n",
    "\n",
    "    if res == lable:\n",
    "        n_correct = n_correct+1\n",
    "    else:\n",
    "        n_incorrect = n_incorrect+1\n",
    "    acc = n_correct/(n_correct+n_incorrect)\n",
    "    print(f'\\r ix:{ix} acc: {acc}',end='')\n",
    "    \n"
   ]
  },
  {
   "cell_type": "code",
   "execution_count": 10,
   "metadata": {},
   "outputs": [
    {
     "data": {
      "text/plain": [
       "[{'name': 'concatenate/concat',\n",
       "  'index': 0,\n",
       "  'shape': array([ 1, 33], dtype=int32),\n",
       "  'dtype': numpy.float32,\n",
       "  'quantization': (0.0, 0)}]"
      ]
     },
     "execution_count": 10,
     "metadata": {},
     "output_type": "execute_result"
    }
   ],
   "source": [
    "output_details"
   ]
  },
  {
   "cell_type": "code",
   "execution_count": null,
   "metadata": {},
   "outputs": [],
   "source": []
  }
 ],
 "metadata": {
  "kernelspec": {
   "display_name": "keras36",
   "language": "python",
   "name": "keras36"
  },
  "language_info": {
   "codemirror_mode": {
    "name": "ipython",
    "version": 3
   },
   "file_extension": ".py",
   "mimetype": "text/x-python",
   "name": "python",
   "nbconvert_exporter": "python",
   "pygments_lexer": "ipython3",
   "version": "3.6.8"
  }
 },
 "nbformat": 4,
 "nbformat_minor": 4
}
