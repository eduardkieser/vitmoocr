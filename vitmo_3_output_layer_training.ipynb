{
 "cells": [
  {
   "cell_type": "code",
   "execution_count": 1,
   "metadata": {},
   "outputs": [
    {
     "name": "stdout",
     "output_type": "stream",
     "text": [
      "/home/eduard/.pyenv/versions/3.6.8/envs/keras_gpu_36/bin/python3.6\n"
     ]
    },
    {
     "name": "stderr",
     "output_type": "stream",
     "text": [
      "/home/eduard/.pyenv/versions/3.6.8/envs/keras_gpu_36/lib/python3.6/site-packages/tensorflow/python/framework/dtypes.py:516: FutureWarning: Passing (type, 1) or '1type' as a synonym of type is deprecated; in a future version of numpy, it will be understood as (type, (1,)) / '(1,)type'.\n",
      "  _np_qint8 = np.dtype([(\"qint8\", np.int8, 1)])\n",
      "/home/eduard/.pyenv/versions/3.6.8/envs/keras_gpu_36/lib/python3.6/site-packages/tensorflow/python/framework/dtypes.py:517: FutureWarning: Passing (type, 1) or '1type' as a synonym of type is deprecated; in a future version of numpy, it will be understood as (type, (1,)) / '(1,)type'.\n",
      "  _np_quint8 = np.dtype([(\"quint8\", np.uint8, 1)])\n",
      "/home/eduard/.pyenv/versions/3.6.8/envs/keras_gpu_36/lib/python3.6/site-packages/tensorflow/python/framework/dtypes.py:518: FutureWarning: Passing (type, 1) or '1type' as a synonym of type is deprecated; in a future version of numpy, it will be understood as (type, (1,)) / '(1,)type'.\n",
      "  _np_qint16 = np.dtype([(\"qint16\", np.int16, 1)])\n",
      "/home/eduard/.pyenv/versions/3.6.8/envs/keras_gpu_36/lib/python3.6/site-packages/tensorflow/python/framework/dtypes.py:519: FutureWarning: Passing (type, 1) or '1type' as a synonym of type is deprecated; in a future version of numpy, it will be understood as (type, (1,)) / '(1,)type'.\n",
      "  _np_quint16 = np.dtype([(\"quint16\", np.uint16, 1)])\n",
      "/home/eduard/.pyenv/versions/3.6.8/envs/keras_gpu_36/lib/python3.6/site-packages/tensorflow/python/framework/dtypes.py:520: FutureWarning: Passing (type, 1) or '1type' as a synonym of type is deprecated; in a future version of numpy, it will be understood as (type, (1,)) / '(1,)type'.\n",
      "  _np_qint32 = np.dtype([(\"qint32\", np.int32, 1)])\n",
      "/home/eduard/.pyenv/versions/3.6.8/envs/keras_gpu_36/lib/python3.6/site-packages/tensorflow/python/framework/dtypes.py:525: FutureWarning: Passing (type, 1) or '1type' as a synonym of type is deprecated; in a future version of numpy, it will be understood as (type, (1,)) / '(1,)type'.\n",
      "  np_resource = np.dtype([(\"resource\", np.ubyte, 1)])\n",
      "/home/eduard/.pyenv/versions/3.6.8/envs/keras_gpu_36/lib/python3.6/site-packages/tensorboard/compat/tensorflow_stub/dtypes.py:541: FutureWarning: Passing (type, 1) or '1type' as a synonym of type is deprecated; in a future version of numpy, it will be understood as (type, (1,)) / '(1,)type'.\n",
      "  _np_qint8 = np.dtype([(\"qint8\", np.int8, 1)])\n",
      "/home/eduard/.pyenv/versions/3.6.8/envs/keras_gpu_36/lib/python3.6/site-packages/tensorboard/compat/tensorflow_stub/dtypes.py:542: FutureWarning: Passing (type, 1) or '1type' as a synonym of type is deprecated; in a future version of numpy, it will be understood as (type, (1,)) / '(1,)type'.\n",
      "  _np_quint8 = np.dtype([(\"quint8\", np.uint8, 1)])\n",
      "/home/eduard/.pyenv/versions/3.6.8/envs/keras_gpu_36/lib/python3.6/site-packages/tensorboard/compat/tensorflow_stub/dtypes.py:543: FutureWarning: Passing (type, 1) or '1type' as a synonym of type is deprecated; in a future version of numpy, it will be understood as (type, (1,)) / '(1,)type'.\n",
      "  _np_qint16 = np.dtype([(\"qint16\", np.int16, 1)])\n",
      "/home/eduard/.pyenv/versions/3.6.8/envs/keras_gpu_36/lib/python3.6/site-packages/tensorboard/compat/tensorflow_stub/dtypes.py:544: FutureWarning: Passing (type, 1) or '1type' as a synonym of type is deprecated; in a future version of numpy, it will be understood as (type, (1,)) / '(1,)type'.\n",
      "  _np_quint16 = np.dtype([(\"quint16\", np.uint16, 1)])\n",
      "/home/eduard/.pyenv/versions/3.6.8/envs/keras_gpu_36/lib/python3.6/site-packages/tensorboard/compat/tensorflow_stub/dtypes.py:545: FutureWarning: Passing (type, 1) or '1type' as a synonym of type is deprecated; in a future version of numpy, it will be understood as (type, (1,)) / '(1,)type'.\n",
      "  _np_qint32 = np.dtype([(\"qint32\", np.int32, 1)])\n",
      "/home/eduard/.pyenv/versions/3.6.8/envs/keras_gpu_36/lib/python3.6/site-packages/tensorboard/compat/tensorflow_stub/dtypes.py:550: FutureWarning: Passing (type, 1) or '1type' as a synonym of type is deprecated; in a future version of numpy, it will be understood as (type, (1,)) / '(1,)type'.\n",
      "  np_resource = np.dtype([(\"resource\", np.ubyte, 1)])\n"
     ]
    },
    {
     "name": "stdout",
     "output_type": "stream",
     "text": [
      "/home/eduard/.pyenv/versions/3.6.8/envs/keras_gpu_36/bin/python3.6\n"
     ]
    }
   ],
   "source": [
    "import sys\n",
    "print(sys.executable)\n",
    "import numpy as np\n",
    "import tensorflow as tf\n",
    "from tensorflow.keras.callbacks import ModelCheckpoint, TensorBoard\n",
    "import os\n",
    "from time import time\n",
    "import pandas as pd\n",
    "from glob import glob\n",
    "from KerasOCRTrainer2 import *\n",
    "from tensorflow.keras.layers import Conv2D, MaxPooling2D, Input, Dense, Flatten, Dropout\n",
    "from tensorflow.keras.models import Model\n",
    "from tensorflow.keras import regularizers, optimizers\n",
    "from tensorflow import keras\n",
    "from tensorflow.keras.layers import Lambda\n",
    "from sklearn.preprocessing import LabelBinarizer\n",
    "from sklearn.preprocessing import OneHotEncoder\n",
    "import cv2\n",
    "from PIL import Image\n",
    "from random import shuffle"
   ]
  },
  {
   "cell_type": "code",
   "execution_count": 2,
   "metadata": {},
   "outputs": [],
   "source": [
    "# tf.test.is_gpu_available()"
   ]
  },
  {
   "cell_type": "markdown",
   "metadata": {},
   "source": [
    "# Create df to flow from"
   ]
  },
  {
   "cell_type": "code",
   "execution_count": 3,
   "metadata": {},
   "outputs": [
    {
     "name": "stdout",
     "output_type": "stream",
     "text": [
      "(708004, 6)\n"
     ]
    }
   ],
   "source": [
    "# ubuntu\n",
    "file_list_2 = glob('/home/eduard/workspace/VitmoOCR/data/data2/*/*.png')\n",
    "# shuffle(file_list_2)\n",
    "file_list_4 = glob('/home/eduard/workspace/VitmoOCR/data/data4/*/*.png')\n",
    "# shuffle(file_list_4)\n",
    "file_list_5 = glob('/home/eduard/workspace/VitmoOCR/data/data5/*/*.png')\n",
    "# shuffle(file_list_5)\n",
    "file_list_6 = glob('/home/eduard/workspace/VitmoOCR/data/data6/*/*.png')\n",
    "# shuffle(file_list_6)\n",
    "file_list_7 = glob('/home/eduard/workspace/VitmoOCR/data/data7/*/*.png')\n",
    "# shuffle(file_list_7)\n",
    "file_list_t = glob('/home/eduard/workspace/VitmoOCR/data/training_data/*/*.jpg')\n",
    "# shuffle(file_list_t)\n",
    "\n",
    "file_list = file_list_2+file_list_4+file_list_5+file_list_6+file_list_7\n",
    "shuffle(file_list)\n",
    "# mac\n",
    "# file_list = glob('/Users/eduard/workspaces/ml_projects/keras/VitmoOCR/data2/*/*.png')\n",
    "# file_list = file_list+glob('/Users/eduard/workspaces/ml_projects/keras/VitmoOCR/training_data/numbers_96/*/*.jpg')\n",
    "df_lst = []\n",
    "for file_path in file_list:\n",
    "    label = file_path.split('/')[-2]\n",
    "    alt_label = label\n",
    "    while len(alt_label)<3:\n",
    "        alt_label = ' '+alt_label\n",
    "    if alt_label == 'nan':\n",
    "        alt_label = '   '\n",
    "        \n",
    "    l0,l1,l2 = alt_label\n",
    "    \n",
    "    df_lst.append({\n",
    "        'file_path': file_path,\n",
    "        'single_label':label,\n",
    "        'multi_label':np.array([l0,l1,l2]),\n",
    "        'l0':str(l0),\n",
    "        'l1':str(l1),\n",
    "        'l2':str(l2),\n",
    "#         'splitable':f'{l0},{l1},{l2}'\n",
    "    }\n",
    "    )\n",
    "df = pd.DataFrame(df_lst)\n",
    "print(df.shape)"
   ]
  },
  {
   "cell_type": "code",
   "execution_count": 4,
   "metadata": {},
   "outputs": [
    {
     "data": {
      "text/html": [
       "<div>\n",
       "<style scoped>\n",
       "    .dataframe tbody tr th:only-of-type {\n",
       "        vertical-align: middle;\n",
       "    }\n",
       "\n",
       "    .dataframe tbody tr th {\n",
       "        vertical-align: top;\n",
       "    }\n",
       "\n",
       "    .dataframe thead th {\n",
       "        text-align: right;\n",
       "    }\n",
       "</style>\n",
       "<table border=\"1\" class=\"dataframe\">\n",
       "  <thead>\n",
       "    <tr style=\"text-align: right;\">\n",
       "      <th></th>\n",
       "      <th>file_path</th>\n",
       "      <th>single_label</th>\n",
       "      <th>multi_label</th>\n",
       "      <th>l0</th>\n",
       "      <th>l1</th>\n",
       "      <th>l2</th>\n",
       "    </tr>\n",
       "  </thead>\n",
       "  <tbody>\n",
       "    <tr>\n",
       "      <th>0</th>\n",
       "      <td>/home/eduard/workspace/VitmoOCR/data/data2/220...</td>\n",
       "      <td>220</td>\n",
       "      <td>[2, 2, 0]</td>\n",
       "      <td>2</td>\n",
       "      <td>2</td>\n",
       "      <td>0</td>\n",
       "    </tr>\n",
       "    <tr>\n",
       "      <th>1</th>\n",
       "      <td>/home/eduard/workspace/VitmoOCR/data/data2/31/...</td>\n",
       "      <td>31</td>\n",
       "      <td>[ , 3, 1]</td>\n",
       "      <td></td>\n",
       "      <td>3</td>\n",
       "      <td>1</td>\n",
       "    </tr>\n",
       "    <tr>\n",
       "      <th>2</th>\n",
       "      <td>/home/eduard/workspace/VitmoOCR/data/data6/152...</td>\n",
       "      <td>152</td>\n",
       "      <td>[1, 5, 2]</td>\n",
       "      <td>1</td>\n",
       "      <td>5</td>\n",
       "      <td>2</td>\n",
       "    </tr>\n",
       "    <tr>\n",
       "      <th>3</th>\n",
       "      <td>/home/eduard/workspace/VitmoOCR/data/data4/152...</td>\n",
       "      <td>152</td>\n",
       "      <td>[1, 5, 2]</td>\n",
       "      <td>1</td>\n",
       "      <td>5</td>\n",
       "      <td>2</td>\n",
       "    </tr>\n",
       "    <tr>\n",
       "      <th>4</th>\n",
       "      <td>/home/eduard/workspace/VitmoOCR/data/data6/129...</td>\n",
       "      <td>129</td>\n",
       "      <td>[1, 2, 9]</td>\n",
       "      <td>1</td>\n",
       "      <td>2</td>\n",
       "      <td>9</td>\n",
       "    </tr>\n",
       "  </tbody>\n",
       "</table>\n",
       "</div>"
      ],
      "text/plain": [
       "                                           file_path single_label multi_label  \\\n",
       "0  /home/eduard/workspace/VitmoOCR/data/data2/220...          220   [2, 2, 0]   \n",
       "1  /home/eduard/workspace/VitmoOCR/data/data2/31/...           31   [ , 3, 1]   \n",
       "2  /home/eduard/workspace/VitmoOCR/data/data6/152...          152   [1, 5, 2]   \n",
       "3  /home/eduard/workspace/VitmoOCR/data/data4/152...          152   [1, 5, 2]   \n",
       "4  /home/eduard/workspace/VitmoOCR/data/data6/129...          129   [1, 2, 9]   \n",
       "\n",
       "  l0 l1 l2  \n",
       "0  2  2  0  \n",
       "1     3  1  \n",
       "2  1  5  2  \n",
       "3  1  5  2  \n",
       "4  1  2  9  "
      ]
     },
     "execution_count": 4,
     "metadata": {},
     "output_type": "execute_result"
    }
   ],
   "source": [
    "df.head()"
   ]
  },
  {
   "cell_type": "code",
   "execution_count": 5,
   "metadata": {},
   "outputs": [
    {
     "data": {
      "text/html": [
       "<div>\n",
       "<style scoped>\n",
       "    .dataframe tbody tr th:only-of-type {\n",
       "        vertical-align: middle;\n",
       "    }\n",
       "\n",
       "    .dataframe tbody tr th {\n",
       "        vertical-align: top;\n",
       "    }\n",
       "\n",
       "    .dataframe thead th {\n",
       "        text-align: right;\n",
       "    }\n",
       "</style>\n",
       "<table border=\"1\" class=\"dataframe\">\n",
       "  <thead>\n",
       "    <tr style=\"text-align: right;\">\n",
       "      <th></th>\n",
       "      <th>file_path</th>\n",
       "      <th>single_label</th>\n",
       "      <th>multi_label</th>\n",
       "      <th>l0</th>\n",
       "      <th>l1</th>\n",
       "      <th>l2</th>\n",
       "      <th>l0d</th>\n",
       "      <th>l1d</th>\n",
       "      <th>l2d</th>\n",
       "    </tr>\n",
       "  </thead>\n",
       "  <tbody>\n",
       "    <tr>\n",
       "      <th>0</th>\n",
       "      <td>/home/eduard/workspace/VitmoOCR/data/data2/220...</td>\n",
       "      <td>220</td>\n",
       "      <td>[2, 2, 0]</td>\n",
       "      <td>2</td>\n",
       "      <td>2</td>\n",
       "      <td>0</td>\n",
       "      <td>[0, 0, 0, 1, 0, 0, 0, 0, 0, 0, 0]</td>\n",
       "      <td>[0, 0, 0, 1, 0, 0, 0, 0, 0, 0, 0]</td>\n",
       "      <td>[0, 1, 0, 0, 0, 0, 0, 0, 0, 0, 0]</td>\n",
       "    </tr>\n",
       "    <tr>\n",
       "      <th>1</th>\n",
       "      <td>/home/eduard/workspace/VitmoOCR/data/data2/31/...</td>\n",
       "      <td>31</td>\n",
       "      <td>[ , 3, 1]</td>\n",
       "      <td></td>\n",
       "      <td>3</td>\n",
       "      <td>1</td>\n",
       "      <td>[1, 0, 0, 0, 0, 0, 0, 0, 0, 0, 0]</td>\n",
       "      <td>[0, 0, 0, 0, 1, 0, 0, 0, 0, 0, 0]</td>\n",
       "      <td>[0, 0, 1, 0, 0, 0, 0, 0, 0, 0, 0]</td>\n",
       "    </tr>\n",
       "    <tr>\n",
       "      <th>2</th>\n",
       "      <td>/home/eduard/workspace/VitmoOCR/data/data6/152...</td>\n",
       "      <td>152</td>\n",
       "      <td>[1, 5, 2]</td>\n",
       "      <td>1</td>\n",
       "      <td>5</td>\n",
       "      <td>2</td>\n",
       "      <td>[0, 0, 1, 0, 0, 0, 0, 0, 0, 0, 0]</td>\n",
       "      <td>[0, 0, 0, 0, 0, 0, 1, 0, 0, 0, 0]</td>\n",
       "      <td>[0, 0, 0, 1, 0, 0, 0, 0, 0, 0, 0]</td>\n",
       "    </tr>\n",
       "    <tr>\n",
       "      <th>3</th>\n",
       "      <td>/home/eduard/workspace/VitmoOCR/data/data4/152...</td>\n",
       "      <td>152</td>\n",
       "      <td>[1, 5, 2]</td>\n",
       "      <td>1</td>\n",
       "      <td>5</td>\n",
       "      <td>2</td>\n",
       "      <td>[0, 0, 1, 0, 0, 0, 0, 0, 0, 0, 0]</td>\n",
       "      <td>[0, 0, 0, 0, 0, 0, 1, 0, 0, 0, 0]</td>\n",
       "      <td>[0, 0, 0, 1, 0, 0, 0, 0, 0, 0, 0]</td>\n",
       "    </tr>\n",
       "    <tr>\n",
       "      <th>4</th>\n",
       "      <td>/home/eduard/workspace/VitmoOCR/data/data6/129...</td>\n",
       "      <td>129</td>\n",
       "      <td>[1, 2, 9]</td>\n",
       "      <td>1</td>\n",
       "      <td>2</td>\n",
       "      <td>9</td>\n",
       "      <td>[0, 0, 1, 0, 0, 0, 0, 0, 0, 0, 0]</td>\n",
       "      <td>[0, 0, 0, 1, 0, 0, 0, 0, 0, 0, 0]</td>\n",
       "      <td>[0, 0, 0, 0, 0, 0, 0, 0, 0, 0, 1]</td>\n",
       "    </tr>\n",
       "  </tbody>\n",
       "</table>\n",
       "</div>"
      ],
      "text/plain": [
       "                                           file_path single_label multi_label  \\\n",
       "0  /home/eduard/workspace/VitmoOCR/data/data2/220...          220   [2, 2, 0]   \n",
       "1  /home/eduard/workspace/VitmoOCR/data/data2/31/...           31   [ , 3, 1]   \n",
       "2  /home/eduard/workspace/VitmoOCR/data/data6/152...          152   [1, 5, 2]   \n",
       "3  /home/eduard/workspace/VitmoOCR/data/data4/152...          152   [1, 5, 2]   \n",
       "4  /home/eduard/workspace/VitmoOCR/data/data6/129...          129   [1, 2, 9]   \n",
       "\n",
       "  l0 l1 l2                                l0d  \\\n",
       "0  2  2  0  [0, 0, 0, 1, 0, 0, 0, 0, 0, 0, 0]   \n",
       "1     3  1  [1, 0, 0, 0, 0, 0, 0, 0, 0, 0, 0]   \n",
       "2  1  5  2  [0, 0, 1, 0, 0, 0, 0, 0, 0, 0, 0]   \n",
       "3  1  5  2  [0, 0, 1, 0, 0, 0, 0, 0, 0, 0, 0]   \n",
       "4  1  2  9  [0, 0, 1, 0, 0, 0, 0, 0, 0, 0, 0]   \n",
       "\n",
       "                                 l1d                                l2d  \n",
       "0  [0, 0, 0, 1, 0, 0, 0, 0, 0, 0, 0]  [0, 1, 0, 0, 0, 0, 0, 0, 0, 0, 0]  \n",
       "1  [0, 0, 0, 0, 1, 0, 0, 0, 0, 0, 0]  [0, 0, 1, 0, 0, 0, 0, 0, 0, 0, 0]  \n",
       "2  [0, 0, 0, 0, 0, 0, 1, 0, 0, 0, 0]  [0, 0, 0, 1, 0, 0, 0, 0, 0, 0, 0]  \n",
       "3  [0, 0, 0, 0, 0, 0, 1, 0, 0, 0, 0]  [0, 0, 0, 1, 0, 0, 0, 0, 0, 0, 0]  \n",
       "4  [0, 0, 0, 1, 0, 0, 0, 0, 0, 0, 0]  [0, 0, 0, 0, 0, 0, 0, 0, 0, 0, 1]  "
      ]
     },
     "execution_count": 5,
     "metadata": {},
     "output_type": "execute_result"
    }
   ],
   "source": [
    "def one_hot(cat):\n",
    "    categories = [' ','0','1','2','3','4','5','6','7','8','9']\n",
    "    return (cat==np.array(categories) ).astype(int).tolist()\n",
    "\n",
    "categories = [' ','0','1','2','3','4','5','6','7','8','9']\n",
    "for col in ['l0','l1','l2']:\n",
    "    df[col+'d'] = df[col].apply(one_hot)\n",
    "df.head()"
   ]
  },
  {
   "cell_type": "code",
   "execution_count": 6,
   "metadata": {},
   "outputs": [
    {
     "data": {
      "image/png": "[encoded data removed]",
      "text/plain": [
       "<PIL.Image.Image image mode=RGB size=211x78 at 0x7F5B2C737400>"
      ]
     },
     "execution_count": 6,
     "metadata": {},
     "output_type": "execute_result"
    }
   ],
   "source": [
    "def random_perspective(img):\n",
    "#     if np.random.randint(3)!=0:\n",
    "#         pass\n",
    "#     else:\n",
    "#         img= np.rot90(img)\n",
    "    \n",
    "    \n",
    "    # only apply to every n_th image\n",
    "    if np.random.randint(3)!=0:\n",
    "        return img\n",
    "    MAX_CHANGE = 0.2\n",
    "    a = np.random.rand(8).reshape(4,2)\n",
    "    width, height = img.shape[:2]\n",
    "    scale_factor = min(width,height)\n",
    "    a = a*scale_factor*MAX_CHANGE\n",
    "    pts1 = np.float32([\n",
    "        [0,0],\n",
    "        [width,0],\n",
    "        [width,height],\n",
    "        [0,height]\n",
    "    ])\n",
    "    pts2 = np.float32([\n",
    "        [0+a[0,0],0+a[0,1]],\n",
    "        [width-a[1,0],0+a[1,1]],\n",
    "        [width-a[2,0],height-a[2,1]],\n",
    "        [0+a[3,0],height-a[3,1]]\n",
    "    ])\n",
    "    M = cv2.getPerspectiveTransform(pts1,pts2)\n",
    "    img = cv2.warpPerspective(img, M, (height,width))\n",
    "    \n",
    "    return img\n",
    "\n",
    "path = file_list[0]\n",
    "img = cv2.imread(path)\n",
    "img = random_perspective(img)\n",
    "\n",
    "Image.fromarray(img)"
   ]
  },
  {
   "cell_type": "markdown",
   "metadata": {},
   "source": [
    "## Option 2"
   ]
  },
  {
   "cell_type": "code",
   "execution_count": 7,
   "metadata": {},
   "outputs": [
    {
     "name": "stderr",
     "output_type": "stream",
     "text": [
      "/home/eduard/.pyenv/versions/3.6.8/envs/keras_gpu_36/lib/python3.6/site-packages/keras_preprocessing/image/dataframe_iterator.py:211: UserWarning: `classes` will be ignored given the class_mode=\"multi_output\"\n",
      "  .format(self.class_mode))\n"
     ]
    },
    {
     "name": "stdout",
     "output_type": "stream",
     "text": [
      "Found 637204 validated image filenames.\n",
      "Found 70800 validated image filenames.\n"
     ]
    }
   ],
   "source": [
    "im_size = 48\n",
    "ks = 5\n",
    "\n",
    "mini_df = df\n",
    "\n",
    "train_datagen = tf.keras.preprocessing.image.ImageDataGenerator(\n",
    "    rescale=1./255,\n",
    "    shear_range=0.2,\n",
    "    zoom_range=0.1,\n",
    "    horizontal_flip=False,\n",
    "    validation_split=0.1,\n",
    "    preprocessing_function = random_perspective\n",
    ")\n",
    "\n",
    "y_col = ['l0d','l1d','l2d']\n",
    "class_mode = 'multi_output'\n",
    "\n",
    "train_generator = train_datagen.flow_from_dataframe(\n",
    "    mini_df, directory='/', x_col='file_path', y_col=y_col,\n",
    "    target_size=(im_size, im_size), color_mode='rgb', class_mode=class_mode, \n",
    "    subset=\"training\", classes=categories,\n",
    "    batch_size=128, seed=42)\n",
    "\n",
    "valid_generator = train_datagen.flow_from_dataframe(\n",
    "    mini_df, directory='/', x_col='file_path', y_col=y_col,\n",
    "    target_size=(im_size, im_size), color_mode='rgb', class_mode=class_mode, \n",
    "    subset=\"validation\", classes=categories,\n",
    "    batch_size=128, seed=42)"
   ]
  },
  {
   "cell_type": "markdown",
   "metadata": {},
   "source": [
    "### Define model"
   ]
  },
  {
   "cell_type": "code",
   "execution_count": 8,
   "metadata": {},
   "outputs": [
    {
     "name": "stderr",
     "output_type": "stream",
     "text": [
      "WARNING: Logging before flag parsing goes to stderr.\n",
      "W0910 19:57:55.920607 140032803348608 deprecation.py:506] From /home/eduard/.pyenv/versions/3.6.8/envs/keras_gpu_36/lib/python3.6/site-packages/tensorflow/python/ops/init_ops.py:1251: calling VarianceScaling.__init__ (from tensorflow.python.ops.init_ops) with dtype is deprecated and will be removed in a future version.\n",
      "Instructions for updating:\n",
      "Call initializer instance with the dtype argument instead of passing it to the constructor\n"
     ]
    },
    {
     "data": {
      "text/plain": [
       "<tensorflow.python.keras.engine.training.Model at 0x7f5b2c50b278>"
      ]
     },
     "execution_count": 8,
     "metadata": {},
     "output_type": "execute_result"
    }
   ],
   "source": [
    "# kernale size\n",
    "ks = 5\n",
    "# number of filters\n",
    "nf = 32\n",
    "input_img = Input(shape=(im_size, im_size, 3))\n",
    "# gs_img = Lambda(lambda c: tf.image.rgb_to_grayscale(c))(input_img)\n",
    "conv1 = Conv2D(nf, (ks, ks), strides=2, padding='same', activation='relu')(input_img)\n",
    "drop1 = Dropout(0.05)(conv1)\n",
    "conv2 = Conv2D(nf, (ks, ks), strides=2, padding='same', activation='relu')(drop1)\n",
    "drop2 = Dropout(0.05)(conv2)\n",
    "conv3 = Conv2D(nf, (ks, ks), strides=2, padding='same', activation='relu')(drop2)\n",
    "flat1  = Flatten()(conv3)\n",
    "dense1 = Dense(256,activation='relu')(flat1)\n",
    "num1 = Dense(11,activation='softmax',name='num1')(dense1)\n",
    "num2 = Dense(11,activation='softmax',name='num2')(dense1)\n",
    "num3 = Dense(11,activation='softmax',name='num3')(dense1)\n",
    "\n",
    "# output = keras.layers.concatenate([num1,num2,num3])\n",
    "# output = [num1,num2,num3]?\n",
    "model = Model(inputs = input_img, outputs=[num1,num2,num3])\n",
    "model"
   ]
  },
  {
   "cell_type": "code",
   "execution_count": 9,
   "metadata": {},
   "outputs": [
    {
     "name": "stdout",
     "output_type": "stream",
     "text": [
      "Failed to import pydot. You must install pydot and graphviz for `pydotprint` to work.\n"
     ]
    }
   ],
   "source": [
    "keras.utils.plot_model(model, 'multi_input_and_output_model.png', show_shapes=True)"
   ]
  },
  {
   "cell_type": "code",
   "execution_count": 10,
   "metadata": {},
   "outputs": [
    {
     "name": "stdout",
     "output_type": "stream",
     "text": [
      "Model: \"model\"\n",
      "__________________________________________________________________________________________________\n",
      "Layer (type)                    Output Shape         Param #     Connected to                     \n",
      "==================================================================================================\n",
      "input_1 (InputLayer)            [(None, 48, 48, 3)]  0                                            \n",
      "__________________________________________________________________________________________________\n",
      "conv2d (Conv2D)                 (None, 24, 24, 32)   2432        input_1[0][0]                    \n",
      "__________________________________________________________________________________________________\n",
      "dropout (Dropout)               (None, 24, 24, 32)   0           conv2d[0][0]                     \n",
      "__________________________________________________________________________________________________\n",
      "conv2d_1 (Conv2D)               (None, 12, 12, 32)   25632       dropout[0][0]                    \n",
      "__________________________________________________________________________________________________\n",
      "dropout_1 (Dropout)             (None, 12, 12, 32)   0           conv2d_1[0][0]                   \n",
      "__________________________________________________________________________________________________\n",
      "conv2d_2 (Conv2D)               (None, 6, 6, 32)     25632       dropout_1[0][0]                  \n",
      "__________________________________________________________________________________________________\n",
      "flatten (Flatten)               (None, 1152)         0           conv2d_2[0][0]                   \n",
      "__________________________________________________________________________________________________\n",
      "dense (Dense)                   (None, 256)          295168      flatten[0][0]                    \n",
      "__________________________________________________________________________________________________\n",
      "num1 (Dense)                    (None, 11)           2827        dense[0][0]                      \n",
      "__________________________________________________________________________________________________\n",
      "num2 (Dense)                    (None, 11)           2827        dense[0][0]                      \n",
      "__________________________________________________________________________________________________\n",
      "num3 (Dense)                    (None, 11)           2827        dense[0][0]                      \n",
      "==================================================================================================\n",
      "Total params: 357,345\n",
      "Trainable params: 357,345\n",
      "Non-trainable params: 0\n",
      "__________________________________________________________________________________________________\n"
     ]
    }
   ],
   "source": [
    "model.summary()"
   ]
  },
  {
   "cell_type": "code",
   "execution_count": 11,
   "metadata": {},
   "outputs": [],
   "source": [
    "model_name = 'dragon64_mini_3cl32_dense256'\n",
    "tensorboard = TensorBoard(log_dir=f'logs/{model_name}')\n",
    "model_path = 'models/dragon_w_dense'\n",
    "all_checkpoint_path = f'{model_path}''/ep{epoch:02d}-va{val_loss:.2f}.hdf5'\n",
    "save_all_callback = ModelCheckpoint(\n",
    "        all_checkpoint_path, \n",
    "        monitor='val_loss',\n",
    "        save_best_only=False,\n",
    "    )"
   ]
  },
  {
   "cell_type": "code",
   "execution_count": 12,
   "metadata": {},
   "outputs": [],
   "source": [
    "model.compile(optimizers.Adam(lr=0.001),loss=[\"categorical_crossentropy\"]*3,metrics=[\"accuracy\"],)"
   ]
  },
  {
   "cell_type": "code",
   "execution_count": 13,
   "metadata": {},
   "outputs": [
    {
     "data": {
      "text/plain": [
       "True"
      ]
     },
     "execution_count": 13,
     "metadata": {},
     "output_type": "execute_result"
    }
   ],
   "source": [
    "tf.test.is_gpu_available()"
   ]
  },
  {
   "cell_type": "code",
   "execution_count": null,
   "metadata": {},
   "outputs": [
    {
     "name": "stdout",
     "output_type": "stream",
     "text": [
      "Epoch 1/60\n",
      "4977/4978 [============================>.] - ETA: 0s - loss: 1.8201 - num1_loss: 0.1969 - num2_loss: 0.7976 - num3_loss: 0.8256 - num1_acc: 0.9225 - num2_acc: 0.7331 - num3_acc: 0.7236"
     ]
    }
   ],
   "source": [
    "STEP_SIZE_TRAIN=train_generator.n//train_generator.batch_size\n",
    "STEP_SIZE_VALID=valid_generator.n//valid_generator.batch_size\n",
    "# STEP_SIZE_TEST=test_generator.n//test_generator.batch_size\n",
    "model.fit_generator(generator=train_generator,\n",
    "                    steps_per_epoch=STEP_SIZE_TRAIN,\n",
    "                    validation_data=valid_generator,\n",
    "                    validation_steps=STEP_SIZE_VALID,\n",
    "                    epochs=60,\n",
    "                    callbacks = [tensorboard, save_all_callback]\n",
    ")"
   ]
  },
  {
   "cell_type": "code",
   "execution_count": null,
   "metadata": {},
   "outputs": [],
   "source": [
    "! ls"
   ]
  },
  {
   "cell_type": "code",
   "execution_count": null,
   "metadata": {},
   "outputs": [],
   "source": []
  }
 ],
 "metadata": {
  "kernelspec": {
   "display_name": "Python 3",
   "language": "python",
   "name": "python3"
  },
  "language_info": {
   "codemirror_mode": {
    "name": "ipython",
    "version": 3
   },
   "file_extension": ".py",
   "mimetype": "text/x-python",
   "name": "python",
   "nbconvert_exporter": "python",
   "pygments_lexer": "ipython3",
   "version": "3.6.8"
  }
 },
 "nbformat": 4,
 "nbformat_minor": 4
}
