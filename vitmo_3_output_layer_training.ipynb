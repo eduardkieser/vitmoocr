{
 "cells": [
  {
   "cell_type": "code",
   "execution_count": 2,
   "metadata": {},
   "outputs": [
    {
     "name": "stdout",
     "output_type": "stream",
     "text": [
      "/home/eduard/.pyenv/versions/3.6.8/envs/keras_gpu_36/bin/python3.6\n"
     ]
    }
   ],
   "source": [
    "import sys\n",
    "print(sys.executable)\n",
    "import numpy as np\n",
    "import tensorflow as tf\n",
    "from tensorflow.keras.callbacks import ModelCheckpoint, TensorBoard\n",
    "import os\n",
    "from time import time\n",
    "import pandas as pd\n",
    "from glob import glob\n",
    "from KerasOCRTrainer2 import *\n",
    "from tensorflow.keras.layers import Conv2D, MaxPooling2D, Input, Dense, Flatten, Dropout\n",
    "from tensorflow.keras.models import Model\n",
    "from tensorflow.keras import regularizers, optimizers\n",
    "from tensorflow import keras\n",
    "from tensorflow.keras.layers import Lambda\n",
    "from sklearn.preprocessing import LabelBinarizer\n",
    "from sklearn.preprocessing import OneHotEncoder\n",
    "import cv2\n",
    "from PIL import Image\n",
    "from random import shuffle"
   ]
  },
  {
   "cell_type": "code",
   "execution_count": 3,
   "metadata": {},
   "outputs": [],
   "source": [
    "# tf.test.is_gpu_available()"
   ]
  },
  {
   "cell_type": "markdown",
   "metadata": {},
   "source": [
    "# Create df to flow from"
   ]
  },
  {
   "cell_type": "code",
   "execution_count": 4,
   "metadata": {},
   "outputs": [
    {
     "name": "stdout",
     "output_type": "stream",
     "text": [
      "(708004, 6)\n"
     ]
    }
   ],
   "source": [
    "# ubuntu\n",
    "file_list_2 = glob('/home/eduard/workspace/VitmoOCR/data/data2/*/*.png')\n",
    "# shuffle(file_list_2)\n",
    "file_list_4 = glob('/home/eduard/workspace/VitmoOCR/data/data4/*/*.png')\n",
    "# shuffle(file_list_4)\n",
    "file_list_5 = glob('/home/eduard/workspace/VitmoOCR/data/data5/*/*.png')\n",
    "# shuffle(file_list_5)\n",
    "file_list_6 = glob('/home/eduard/workspace/VitmoOCR/data/data6/*/*.png')\n",
    "# shuffle(file_list_6)\n",
    "file_list_7 = glob('/home/eduard/workspace/VitmoOCR/data/data7/*/*.png')\n",
    "# shuffle(file_list_7)\n",
    "file_list_t = glob('/home/eduard/workspace/VitmoOCR/data/training_data/*/*.jpg')\n",
    "# shuffle(file_list_t)\n",
    "\n",
    "file_list = file_list_2+file_list_4+file_list_5+file_list_6+file_list_7\n",
    "shuffle(file_list)\n",
    "# mac\n",
    "# file_list = glob('/Users/eduard/workspaces/ml_projects/keras/VitmoOCR/data2/*/*.png')\n",
    "# file_list = file_list+glob('/Users/eduard/workspaces/ml_projects/keras/VitmoOCR/training_data/numbers_96/*/*.jpg')\n",
    "df_lst = []\n",
    "for file_path in file_list:\n",
    "    label = file_path.split('/')[-2]\n",
    "    alt_label = label\n",
    "    while len(alt_label)<3:\n",
    "        alt_label = ' '+alt_label\n",
    "    if alt_label == 'nan':\n",
    "        alt_label = '   '\n",
    "        \n",
    "    l0,l1,l2 = alt_label\n",
    "    \n",
    "    df_lst.append({\n",
    "        'file_path': file_path,\n",
    "        'single_label':label,\n",
    "        'multi_label':np.array([l0,l1,l2]),\n",
    "        'l0':str(l0),\n",
    "        'l1':str(l1),\n",
    "        'l2':str(l2),\n",
    "#         'splitable':f'{l0},{l1},{l2}'\n",
    "    }\n",
    "    )\n",
    "df = pd.DataFrame(df_lst)\n",
    "print(df.shape)"
   ]
  },
  {
   "cell_type": "code",
   "execution_count": 5,
   "metadata": {},
   "outputs": [
    {
     "data": {
      "text/html": [
       "<div>\n",
       "<style scoped>\n",
       "    .dataframe tbody tr th:only-of-type {\n",
       "        vertical-align: middle;\n",
       "    }\n",
       "\n",
       "    .dataframe tbody tr th {\n",
       "        vertical-align: top;\n",
       "    }\n",
       "\n",
       "    .dataframe thead th {\n",
       "        text-align: right;\n",
       "    }\n",
       "</style>\n",
       "<table border=\"1\" class=\"dataframe\">\n",
       "  <thead>\n",
       "    <tr style=\"text-align: right;\">\n",
       "      <th></th>\n",
       "      <th>file_path</th>\n",
       "      <th>single_label</th>\n",
       "      <th>multi_label</th>\n",
       "      <th>l0</th>\n",
       "      <th>l1</th>\n",
       "      <th>l2</th>\n",
       "    </tr>\n",
       "  </thead>\n",
       "  <tbody>\n",
       "    <tr>\n",
       "      <th>0</th>\n",
       "      <td>/home/eduard/workspace/VitmoOCR/data/data6/104...</td>\n",
       "      <td>104</td>\n",
       "      <td>[1, 0, 4]</td>\n",
       "      <td>1</td>\n",
       "      <td>0</td>\n",
       "      <td>4</td>\n",
       "    </tr>\n",
       "    <tr>\n",
       "      <th>1</th>\n",
       "      <td>/home/eduard/workspace/VitmoOCR/data/data6/19/...</td>\n",
       "      <td>19</td>\n",
       "      <td>[ , 1, 9]</td>\n",
       "      <td></td>\n",
       "      <td>1</td>\n",
       "      <td>9</td>\n",
       "    </tr>\n",
       "    <tr>\n",
       "      <th>2</th>\n",
       "      <td>/home/eduard/workspace/VitmoOCR/data/data6/39/...</td>\n",
       "      <td>39</td>\n",
       "      <td>[ , 3, 9]</td>\n",
       "      <td></td>\n",
       "      <td>3</td>\n",
       "      <td>9</td>\n",
       "    </tr>\n",
       "    <tr>\n",
       "      <th>3</th>\n",
       "      <td>/home/eduard/workspace/VitmoOCR/data/data4/84/...</td>\n",
       "      <td>84</td>\n",
       "      <td>[ , 8, 4]</td>\n",
       "      <td></td>\n",
       "      <td>8</td>\n",
       "      <td>4</td>\n",
       "    </tr>\n",
       "    <tr>\n",
       "      <th>4</th>\n",
       "      <td>/home/eduard/workspace/VitmoOCR/data/data7/164...</td>\n",
       "      <td>164</td>\n",
       "      <td>[1, 6, 4]</td>\n",
       "      <td>1</td>\n",
       "      <td>6</td>\n",
       "      <td>4</td>\n",
       "    </tr>\n",
       "  </tbody>\n",
       "</table>\n",
       "</div>"
      ],
      "text/plain": [
       "                                           file_path single_label multi_label  \\\n",
       "0  /home/eduard/workspace/VitmoOCR/data/data6/104...          104   [1, 0, 4]   \n",
       "1  /home/eduard/workspace/VitmoOCR/data/data6/19/...           19   [ , 1, 9]   \n",
       "2  /home/eduard/workspace/VitmoOCR/data/data6/39/...           39   [ , 3, 9]   \n",
       "3  /home/eduard/workspace/VitmoOCR/data/data4/84/...           84   [ , 8, 4]   \n",
       "4  /home/eduard/workspace/VitmoOCR/data/data7/164...          164   [1, 6, 4]   \n",
       "\n",
       "  l0 l1 l2  \n",
       "0  1  0  4  \n",
       "1     1  9  \n",
       "2     3  9  \n",
       "3     8  4  \n",
       "4  1  6  4  "
      ]
     },
     "execution_count": 5,
     "metadata": {},
     "output_type": "execute_result"
    }
   ],
   "source": [
    "df.head()"
   ]
  },
  {
   "cell_type": "code",
   "execution_count": 6,
   "metadata": {},
   "outputs": [
    {
     "data": {
      "text/html": [
       "<div>\n",
       "<style scoped>\n",
       "    .dataframe tbody tr th:only-of-type {\n",
       "        vertical-align: middle;\n",
       "    }\n",
       "\n",
       "    .dataframe tbody tr th {\n",
       "        vertical-align: top;\n",
       "    }\n",
       "\n",
       "    .dataframe thead th {\n",
       "        text-align: right;\n",
       "    }\n",
       "</style>\n",
       "<table border=\"1\" class=\"dataframe\">\n",
       "  <thead>\n",
       "    <tr style=\"text-align: right;\">\n",
       "      <th></th>\n",
       "      <th>file_path</th>\n",
       "      <th>single_label</th>\n",
       "      <th>multi_label</th>\n",
       "      <th>l0</th>\n",
       "      <th>l1</th>\n",
       "      <th>l2</th>\n",
       "      <th>l0d</th>\n",
       "      <th>l1d</th>\n",
       "      <th>l2d</th>\n",
       "    </tr>\n",
       "  </thead>\n",
       "  <tbody>\n",
       "    <tr>\n",
       "      <th>0</th>\n",
       "      <td>/home/eduard/workspace/VitmoOCR/data/data6/104...</td>\n",
       "      <td>104</td>\n",
       "      <td>[1, 0, 4]</td>\n",
       "      <td>1</td>\n",
       "      <td>0</td>\n",
       "      <td>4</td>\n",
       "      <td>[0, 0, 1, 0, 0, 0, 0, 0, 0, 0, 0]</td>\n",
       "      <td>[0, 1, 0, 0, 0, 0, 0, 0, 0, 0, 0]</td>\n",
       "      <td>[0, 0, 0, 0, 0, 1, 0, 0, 0, 0, 0]</td>\n",
       "    </tr>\n",
       "    <tr>\n",
       "      <th>1</th>\n",
       "      <td>/home/eduard/workspace/VitmoOCR/data/data6/19/...</td>\n",
       "      <td>19</td>\n",
       "      <td>[ , 1, 9]</td>\n",
       "      <td></td>\n",
       "      <td>1</td>\n",
       "      <td>9</td>\n",
       "      <td>[1, 0, 0, 0, 0, 0, 0, 0, 0, 0, 0]</td>\n",
       "      <td>[0, 0, 1, 0, 0, 0, 0, 0, 0, 0, 0]</td>\n",
       "      <td>[0, 0, 0, 0, 0, 0, 0, 0, 0, 0, 1]</td>\n",
       "    </tr>\n",
       "    <tr>\n",
       "      <th>2</th>\n",
       "      <td>/home/eduard/workspace/VitmoOCR/data/data6/39/...</td>\n",
       "      <td>39</td>\n",
       "      <td>[ , 3, 9]</td>\n",
       "      <td></td>\n",
       "      <td>3</td>\n",
       "      <td>9</td>\n",
       "      <td>[1, 0, 0, 0, 0, 0, 0, 0, 0, 0, 0]</td>\n",
       "      <td>[0, 0, 0, 0, 1, 0, 0, 0, 0, 0, 0]</td>\n",
       "      <td>[0, 0, 0, 0, 0, 0, 0, 0, 0, 0, 1]</td>\n",
       "    </tr>\n",
       "    <tr>\n",
       "      <th>3</th>\n",
       "      <td>/home/eduard/workspace/VitmoOCR/data/data4/84/...</td>\n",
       "      <td>84</td>\n",
       "      <td>[ , 8, 4]</td>\n",
       "      <td></td>\n",
       "      <td>8</td>\n",
       "      <td>4</td>\n",
       "      <td>[1, 0, 0, 0, 0, 0, 0, 0, 0, 0, 0]</td>\n",
       "      <td>[0, 0, 0, 0, 0, 0, 0, 0, 0, 1, 0]</td>\n",
       "      <td>[0, 0, 0, 0, 0, 1, 0, 0, 0, 0, 0]</td>\n",
       "    </tr>\n",
       "    <tr>\n",
       "      <th>4</th>\n",
       "      <td>/home/eduard/workspace/VitmoOCR/data/data7/164...</td>\n",
       "      <td>164</td>\n",
       "      <td>[1, 6, 4]</td>\n",
       "      <td>1</td>\n",
       "      <td>6</td>\n",
       "      <td>4</td>\n",
       "      <td>[0, 0, 1, 0, 0, 0, 0, 0, 0, 0, 0]</td>\n",
       "      <td>[0, 0, 0, 0, 0, 0, 0, 1, 0, 0, 0]</td>\n",
       "      <td>[0, 0, 0, 0, 0, 1, 0, 0, 0, 0, 0]</td>\n",
       "    </tr>\n",
       "  </tbody>\n",
       "</table>\n",
       "</div>"
      ],
      "text/plain": [
       "                                           file_path single_label multi_label  \\\n",
       "0  /home/eduard/workspace/VitmoOCR/data/data6/104...          104   [1, 0, 4]   \n",
       "1  /home/eduard/workspace/VitmoOCR/data/data6/19/...           19   [ , 1, 9]   \n",
       "2  /home/eduard/workspace/VitmoOCR/data/data6/39/...           39   [ , 3, 9]   \n",
       "3  /home/eduard/workspace/VitmoOCR/data/data4/84/...           84   [ , 8, 4]   \n",
       "4  /home/eduard/workspace/VitmoOCR/data/data7/164...          164   [1, 6, 4]   \n",
       "\n",
       "  l0 l1 l2                                l0d  \\\n",
       "0  1  0  4  [0, 0, 1, 0, 0, 0, 0, 0, 0, 0, 0]   \n",
       "1     1  9  [1, 0, 0, 0, 0, 0, 0, 0, 0, 0, 0]   \n",
       "2     3  9  [1, 0, 0, 0, 0, 0, 0, 0, 0, 0, 0]   \n",
       "3     8  4  [1, 0, 0, 0, 0, 0, 0, 0, 0, 0, 0]   \n",
       "4  1  6  4  [0, 0, 1, 0, 0, 0, 0, 0, 0, 0, 0]   \n",
       "\n",
       "                                 l1d                                l2d  \n",
       "0  [0, 1, 0, 0, 0, 0, 0, 0, 0, 0, 0]  [0, 0, 0, 0, 0, 1, 0, 0, 0, 0, 0]  \n",
       "1  [0, 0, 1, 0, 0, 0, 0, 0, 0, 0, 0]  [0, 0, 0, 0, 0, 0, 0, 0, 0, 0, 1]  \n",
       "2  [0, 0, 0, 0, 1, 0, 0, 0, 0, 0, 0]  [0, 0, 0, 0, 0, 0, 0, 0, 0, 0, 1]  \n",
       "3  [0, 0, 0, 0, 0, 0, 0, 0, 0, 1, 0]  [0, 0, 0, 0, 0, 1, 0, 0, 0, 0, 0]  \n",
       "4  [0, 0, 0, 0, 0, 0, 0, 1, 0, 0, 0]  [0, 0, 0, 0, 0, 1, 0, 0, 0, 0, 0]  "
      ]
     },
     "execution_count": 6,
     "metadata": {},
     "output_type": "execute_result"
    }
   ],
   "source": [
    "def one_hot(cat):\n",
    "    categories = [' ','0','1','2','3','4','5','6','7','8','9']\n",
    "    return (cat==np.array(categories) ).astype(int).tolist()\n",
    "\n",
    "categories = [' ','0','1','2','3','4','5','6','7','8','9']\n",
    "for col in ['l0','l1','l2']:\n",
    "    df[col+'d'] = df[col].apply(one_hot)\n",
    "df.head()"
   ]
  },
  {
   "cell_type": "code",
   "execution_count": 7,
   "metadata": {},
   "outputs": [
    {
     "data": {
      "image/png": "[encoded data removed]",
      "text/plain": [
       "<PIL.Image.Image image mode=RGB size=126x143 at 0x7F62E917D390>"
      ]
     },
     "execution_count": 7,
     "metadata": {},
     "output_type": "execute_result"
    }
   ],
   "source": [
    "def random_perspective(img):\n",
    "#     if np.random.randint(3)!=0:\n",
    "#         pass\n",
    "#     else:\n",
    "#         img= np.rot90(img)\n",
    "    \n",
    "    \n",
    "    # only apply to every n_th image\n",
    "    if np.random.randint(3)!=0:\n",
    "        return img\n",
    "    MAX_CHANGE = 0.2\n",
    "    a = np.random.rand(8).reshape(4,2)\n",
    "    width, height = img.shape[:2]\n",
    "    scale_factor = min(width,height)\n",
    "    a = a*scale_factor*MAX_CHANGE\n",
    "    pts1 = np.float32([\n",
    "        [0,0],\n",
    "        [width,0],\n",
    "        [width,height],\n",
    "        [0,height]\n",
    "    ])\n",
    "    pts2 = np.float32([\n",
    "        [0+a[0,0],0+a[0,1]],\n",
    "        [width-a[1,0],0+a[1,1]],\n",
    "        [width-a[2,0],height-a[2,1]],\n",
    "        [0+a[3,0],height-a[3,1]]\n",
    "    ])\n",
    "    M = cv2.getPerspectiveTransform(pts1,pts2)\n",
    "    img = cv2.warpPerspective(img, M, (height,width))\n",
    "    \n",
    "    return img\n",
    "\n",
    "path = file_list[0]\n",
    "img = cv2.imread(path)\n",
    "img = random_perspective(img)\n",
    "\n",
    "Image.fromarray(img)"
   ]
  },
  {
   "cell_type": "markdown",
   "metadata": {},
   "source": [
    "## Option 2"
   ]
  },
  {
   "cell_type": "code",
   "execution_count": 8,
   "metadata": {},
   "outputs": [
    {
     "name": "stderr",
     "output_type": "stream",
     "text": [
      "/home/eduard/.pyenv/versions/3.6.8/envs/keras_gpu_36/lib/python3.6/site-packages/keras_preprocessing/image/dataframe_iterator.py:211: UserWarning: `classes` will be ignored given the class_mode=\"multi_output\"\n",
      "  .format(self.class_mode))\n"
     ]
    },
    {
     "name": "stdout",
     "output_type": "stream",
     "text": [
      "Found 637204 validated image filenames.\n",
      "Found 70800 validated image filenames.\n"
     ]
    }
   ],
   "source": [
    "im_size = 48\n",
    "ks = 5\n",
    "\n",
    "mini_df = df\n",
    "\n",
    "train_datagen = tf.keras.preprocessing.image.ImageDataGenerator(\n",
    "    rescale=1./255,\n",
    "    shear_range=0.2,\n",
    "    zoom_range=0.1,\n",
    "    horizontal_flip=False,\n",
    "    validation_split=0.1,\n",
    "    preprocessing_function = random_perspective\n",
    ")\n",
    "\n",
    "y_col = ['l0d','l1d','l2d']\n",
    "class_mode = 'multi_output'\n",
    "\n",
    "train_generator = train_datagen.flow_from_dataframe(\n",
    "    mini_df, directory='/', x_col='file_path', y_col=y_col,\n",
    "    target_size=(im_size, im_size), color_mode='rgb', class_mode=class_mode, \n",
    "    subset=\"training\", classes=categories,\n",
    "    batch_size=128, seed=42)\n",
    "\n",
    "valid_generator = train_datagen.flow_from_dataframe(\n",
    "    mini_df, directory='/', x_col='file_path', y_col=y_col,\n",
    "    target_size=(im_size, im_size), color_mode='rgb', class_mode=class_mode, \n",
    "    subset=\"validation\", classes=categories,\n",
    "    batch_size=128, seed=42)"
   ]
  },
  {
   "cell_type": "markdown",
   "metadata": {},
   "source": [
    "### Define model"
   ]
  },
  {
   "cell_type": "code",
   "execution_count": 9,
   "metadata": {},
   "outputs": [
    {
     "name": "stderr",
     "output_type": "stream",
     "text": [
      "WARNING: Logging before flag parsing goes to stderr.\n",
      "W0911 12:54:58.637631 140066032926848 deprecation.py:506] From /home/eduard/.pyenv/versions/3.6.8/envs/keras_gpu_36/lib/python3.6/site-packages/tensorflow/python/ops/init_ops.py:1251: calling VarianceScaling.__init__ (from tensorflow.python.ops.init_ops) with dtype is deprecated and will be removed in a future version.\n",
      "Instructions for updating:\n",
      "Call initializer instance with the dtype argument instead of passing it to the constructor\n"
     ]
    },
    {
     "data": {
      "text/plain": [
       "<tensorflow.python.keras.engine.training.Model at 0x7f62e8f86ba8>"
      ]
     },
     "execution_count": 9,
     "metadata": {},
     "output_type": "execute_result"
    }
   ],
   "source": [
    "# kernale size\n",
    "ks = 5\n",
    "# number of filters\n",
    "nf = 32\n",
    "input_img = Input(shape=(im_size, im_size, 3))\n",
    "# gs_img = Lambda(lambda c: tf.image.rgb_to_grayscale(c))(input_img)\n",
    "conv1 = Conv2D(nf, (ks, ks), strides=2, padding='same', activation='relu')(input_img)\n",
    "drop1 = Dropout(0.05)(conv1)\n",
    "conv2 = Conv2D(nf, (ks, ks), strides=2, padding='same', activation='relu')(drop1)\n",
    "drop2 = Dropout(0.05)(conv2)\n",
    "conv3 = Conv2D(nf, (ks, ks), strides=2, padding='same', activation='relu')(drop2)\n",
    "flat1  = Flatten()(conv3)\n",
    "dense1 = Dense(256,activation='relu')(flat1)\n",
    "num1 = Dense(11,activation='softmax',name='num1')(dense1)\n",
    "num2 = Dense(11,activation='softmax',name='num2')(dense1)\n",
    "num3 = Dense(11,activation='softmax',name='num3')(dense1)\n",
    "\n",
    "# output = keras.layers.concatenate([num1,num2,num3])\n",
    "# output = [num1,num2,num3]?\n",
    "model = Model(inputs = input_img, outputs=[num1,num2,num3])\n",
    "model"
   ]
  },
  {
   "cell_type": "code",
   "execution_count": 10,
   "metadata": {},
   "outputs": [
    {
     "name": "stdout",
     "output_type": "stream",
     "text": [
      "Failed to import pydot. You must install pydot and graphviz for `pydotprint` to work.\n"
     ]
    }
   ],
   "source": [
    "keras.utils.plot_model(model, 'multi_input_and_output_model.png', show_shapes=True)"
   ]
  },
  {
   "cell_type": "code",
   "execution_count": 11,
   "metadata": {},
   "outputs": [
    {
     "name": "stdout",
     "output_type": "stream",
     "text": [
      "Model: \"model\"\n",
      "__________________________________________________________________________________________________\n",
      "Layer (type)                    Output Shape         Param #     Connected to                     \n",
      "==================================================================================================\n",
      "input_1 (InputLayer)            [(None, 48, 48, 3)]  0                                            \n",
      "__________________________________________________________________________________________________\n",
      "conv2d (Conv2D)                 (None, 24, 24, 32)   2432        input_1[0][0]                    \n",
      "__________________________________________________________________________________________________\n",
      "dropout (Dropout)               (None, 24, 24, 32)   0           conv2d[0][0]                     \n",
      "__________________________________________________________________________________________________\n",
      "conv2d_1 (Conv2D)               (None, 12, 12, 32)   25632       dropout[0][0]                    \n",
      "__________________________________________________________________________________________________\n",
      "dropout_1 (Dropout)             (None, 12, 12, 32)   0           conv2d_1[0][0]                   \n",
      "__________________________________________________________________________________________________\n",
      "conv2d_2 (Conv2D)               (None, 6, 6, 32)     25632       dropout_1[0][0]                  \n",
      "__________________________________________________________________________________________________\n",
      "flatten (Flatten)               (None, 1152)         0           conv2d_2[0][0]                   \n",
      "__________________________________________________________________________________________________\n",
      "dense (Dense)                   (None, 256)          295168      flatten[0][0]                    \n",
      "__________________________________________________________________________________________________\n",
      "num1 (Dense)                    (None, 11)           2827        dense[0][0]                      \n",
      "__________________________________________________________________________________________________\n",
      "num2 (Dense)                    (None, 11)           2827        dense[0][0]                      \n",
      "__________________________________________________________________________________________________\n",
      "num3 (Dense)                    (None, 11)           2827        dense[0][0]                      \n",
      "==================================================================================================\n",
      "Total params: 357,345\n",
      "Trainable params: 357,345\n",
      "Non-trainable params: 0\n",
      "__________________________________________________________________________________________________\n"
     ]
    }
   ],
   "source": [
    "model.summary()"
   ]
  },
  {
   "cell_type": "code",
   "execution_count": 12,
   "metadata": {},
   "outputs": [],
   "source": [
    "model_name = 'dragon64_mini_3cl32_dense256'\n",
    "tensorboard = TensorBoard(log_dir=f'logs/{model_name}')\n",
    "model_path = 'models/dragon_w_dense'\n",
    "all_checkpoint_path = f'{model_path}''/ep{epoch:02d}-va{val_loss:.2f}.hdf5'\n",
    "save_all_callback = ModelCheckpoint(\n",
    "        all_checkpoint_path, \n",
    "        monitor='val_loss',\n",
    "        save_best_only=False,\n",
    "    )"
   ]
  },
  {
   "cell_type": "code",
   "execution_count": 13,
   "metadata": {},
   "outputs": [],
   "source": [
    "model.compile(optimizers.Adam(lr=0.001),loss=[\"categorical_crossentropy\"]*3,metrics=[\"accuracy\"],)"
   ]
  },
  {
   "cell_type": "code",
   "execution_count": 14,
   "metadata": {},
   "outputs": [
    {
     "data": {
      "text/plain": [
       "False"
      ]
     },
     "execution_count": 14,
     "metadata": {},
     "output_type": "execute_result"
    }
   ],
   "source": [
    "tf.test.is_gpu_available()"
   ]
  },
  {
   "cell_type": "code",
   "execution_count": null,
   "metadata": {},
   "outputs": [
    {
     "name": "stdout",
     "output_type": "stream",
     "text": [
      "Epoch 1/60\n",
      "4978/4978 [==============================] - 1791s 360ms/step - loss: 0.3040 - num1_loss: 0.0393 - num2_loss: 0.1277 - num3_loss: 0.1371 - num1_acc: 0.9854 - num2_acc: 0.9598 - num3_acc: 0.9567 - val_loss: 0.2666 - val_num1_loss: 0.0357 - val_num2_loss: 0.1092 - val_num3_loss: 0.1216 - val_num1_acc: 0.9868 - val_num2_acc: 0.9656 - val_num3_acc: 0.9624\n",
      "Epoch 2/60\n",
      "4978/4978 [==============================] - 1758s 353ms/step - loss: 0.3057 - num1_loss: 0.0394 - num2_loss: 0.1289 - num3_loss: 0.1375 - num1_acc: 0.9854 - num2_acc: 0.9592 - num3_acc: 0.9564 - val_loss: 0.2941 - val_num1_loss: 0.0406 - val_num2_loss: 0.1217 - val_num3_loss: 0.1318 - val_num1_acc: 0.9849 - val_num2_acc: 0.9626 - val_num3_acc: 0.9595\n",
      "Epoch 3/60\n",
      "4978/4978 [==============================] - 1760s 353ms/step - loss: 0.3032 - num1_loss: 0.0395 - num2_loss: 0.1272 - num3_loss: 0.1365 - num1_acc: 0.9854 - num2_acc: 0.9598 - num3_acc: 0.9570 - val_loss: 0.2694 - val_num1_loss: 0.0364 - val_num2_loss: 0.1124 - val_num3_loss: 0.1205 - val_num1_acc: 0.9865 - val_num2_acc: 0.9655 - val_num3_acc: 0.9632\n",
      "Epoch 4/60\n",
      "4978/4978 [==============================] - 1746s 351ms/step - loss: 0.3046 - num1_loss: 0.0395 - num2_loss: 0.1283 - num3_loss: 0.1369 - num1_acc: 0.9855 - num2_acc: 0.9592 - num3_acc: 0.9566 - val_loss: 0.2742 - val_num1_loss: 0.0391 - val_num2_loss: 0.1147 - val_num3_loss: 0.1204 - val_num1_acc: 0.9849 - val_num2_acc: 0.9642 - val_num3_acc: 0.9621\n",
      "Epoch 5/60\n",
      "4978/4978 [==============================] - 1753s 352ms/step - loss: 0.3031 - num1_loss: 0.0395 - num2_loss: 0.1271 - num3_loss: 0.1365 - num1_acc: 0.9856 - num2_acc: 0.9597 - num3_acc: 0.9566 - val_loss: 0.2688 - val_num1_loss: 0.0359 - val_num2_loss: 0.1106 - val_num3_loss: 0.1224 - val_num1_acc: 0.9869 - val_num2_acc: 0.9655 - val_num3_acc: 0.9628\n",
      "Epoch 6/60\n",
      "4978/4978 [==============================] - 1738s 349ms/step - loss: 0.3041 - num1_loss: 0.0397 - num2_loss: 0.1280 - num3_loss: 0.1363 - num1_acc: 0.9855 - num2_acc: 0.9593 - num3_acc: 0.9572 - val_loss: 0.2685 - val_num1_loss: 0.0372 - val_num2_loss: 0.1130 - val_num3_loss: 0.1183 - val_num1_acc: 0.9862 - val_num2_acc: 0.9654 - val_num3_acc: 0.9631\n",
      "Epoch 7/60\n",
      "4978/4978 [==============================] - 1736s 349ms/step - loss: 0.3030 - num1_loss: 0.0395 - num2_loss: 0.1265 - num3_loss: 0.1370 - num1_acc: 0.9855 - num2_acc: 0.9601 - num3_acc: 0.9567 - val_loss: 0.2672 - val_num1_loss: 0.0338 - val_num2_loss: 0.1118 - val_num3_loss: 0.1216 - val_num1_acc: 0.9873 - val_num2_acc: 0.9655 - val_num3_acc: 0.9622\n",
      "Epoch 8/60\n",
      "4978/4978 [==============================] - 1742s 350ms/step - loss: 0.2996 - num1_loss: 0.0390 - num2_loss: 0.1260 - num3_loss: 0.1346 - num1_acc: 0.9857 - num2_acc: 0.9601 - num3_acc: 0.9574 - val_loss: 0.2611 - val_num1_loss: 0.0354 - val_num2_loss: 0.1082 - val_num3_loss: 0.1175 - val_num1_acc: 0.9871 - val_num2_acc: 0.9654 - val_num3_acc: 0.9627\n",
      "Epoch 9/60\n",
      "4978/4978 [==============================] - 1745s 351ms/step - loss: 0.3011 - num1_loss: 0.0390 - num2_loss: 0.1262 - num3_loss: 0.1358 - num1_acc: 0.9855 - num2_acc: 0.9599 - num3_acc: 0.9572 - val_loss: 0.2863 - val_num1_loss: 0.0384 - val_num2_loss: 0.1203 - val_num3_loss: 0.1276 - val_num1_acc: 0.9864 - val_num2_acc: 0.9627 - val_num3_acc: 0.9605\n",
      "Epoch 10/60\n",
      "4978/4978 [==============================] - 1751s 352ms/step - loss: 0.3023 - num1_loss: 0.0393 - num2_loss: 0.1274 - num3_loss: 0.1356 - num1_acc: 0.9854 - num2_acc: 0.9598 - num3_acc: 0.9570 - val_loss: 0.2506 - val_num1_loss: 0.0322 - val_num2_loss: 0.1045 - val_num3_loss: 0.1139 - val_num1_acc: 0.9882 - val_num2_acc: 0.9671 - val_num3_acc: 0.9647\n",
      "Epoch 11/60\n",
      "4978/4978 [==============================] - 1755s 353ms/step - loss: 0.2995 - num1_loss: 0.0392 - num2_loss: 0.1254 - num3_loss: 0.1350 - num1_acc: 0.9853 - num2_acc: 0.9603 - num3_acc: 0.9573 - val_loss: 0.2755 - val_num1_loss: 0.0408 - val_num2_loss: 0.1126 - val_num3_loss: 0.1222 - val_num1_acc: 0.9855 - val_num2_acc: 0.9653 - val_num3_acc: 0.9622\n",
      "Epoch 12/60\n",
      "4978/4978 [==============================] - 1739s 349ms/step - loss: 0.3006 - num1_loss: 0.0393 - num2_loss: 0.1263 - num3_loss: 0.1349 - num1_acc: 0.9853 - num2_acc: 0.9599 - num3_acc: 0.9573 - val_loss: 0.2790 - val_num1_loss: 0.0361 - val_num2_loss: 0.1176 - val_num3_loss: 0.1253 - val_num1_acc: 0.9868 - val_num2_acc: 0.9642 - val_num3_acc: 0.9610\n",
      "Epoch 13/60\n",
      "4978/4978 [==============================] - 1746s 351ms/step - loss: 0.2994 - num1_loss: 0.0390 - num2_loss: 0.1257 - num3_loss: 0.1346 - num1_acc: 0.9854 - num2_acc: 0.9602 - num3_acc: 0.9574 - val_loss: 0.2635 - val_num1_loss: 0.0374 - val_num2_loss: 0.1091 - val_num3_loss: 0.1170 - val_num1_acc: 0.9866 - val_num2_acc: 0.9663 - val_num3_acc: 0.9636\n",
      "Epoch 14/60\n",
      "4978/4978 [==============================] - 1739s 349ms/step - loss: 0.2986 - num1_loss: 0.0396 - num2_loss: 0.1256 - num3_loss: 0.1334 - num1_acc: 0.9855 - num2_acc: 0.9602 - num3_acc: 0.9576 - val_loss: 0.2688 - val_num1_loss: 0.0359 - val_num2_loss: 0.1124 - val_num3_loss: 0.1205 - val_num1_acc: 0.9872 - val_num2_acc: 0.9653 - val_num3_acc: 0.9635\n",
      "Epoch 15/60\n",
      "4978/4978 [==============================] - 1742s 350ms/step - loss: 0.3013 - num1_loss: 0.0396 - num2_loss: 0.1272 - num3_loss: 0.1345 - num1_acc: 0.9852 - num2_acc: 0.9598 - num3_acc: 0.9573 - val_loss: 0.2679 - val_num1_loss: 0.0355 - val_num2_loss: 0.1163 - val_num3_loss: 0.1162 - val_num1_acc: 0.9872 - val_num2_acc: 0.9642 - val_num3_acc: 0.9636\n",
      "Epoch 16/60\n",
      "4978/4978 [==============================] - 1742s 350ms/step - loss: 0.2993 - num1_loss: 0.0388 - num2_loss: 0.1254 - num3_loss: 0.1351 - num1_acc: 0.9855 - num2_acc: 0.9604 - num3_acc: 0.9575 - val_loss: 0.2702 - val_num1_loss: 0.0350 - val_num2_loss: 0.1134 - val_num3_loss: 0.1219 - val_num1_acc: 0.9874 - val_num2_acc: 0.9651 - val_num3_acc: 0.9640\n",
      "Epoch 17/60\n",
      "4978/4978 [==============================] - 1757s 353ms/step - loss: 0.2977 - num1_loss: 0.0387 - num2_loss: 0.1253 - num3_loss: 0.1337 - num1_acc: 0.9859 - num2_acc: 0.9605 - num3_acc: 0.9578 - val_loss: 0.2962 - val_num1_loss: 0.0407 - val_num2_loss: 0.1214 - val_num3_loss: 0.1341 - val_num1_acc: 0.9856 - val_num2_acc: 0.9629 - val_num3_acc: 0.9587\n",
      "Epoch 18/60\n",
      "4978/4978 [==============================] - 1747s 351ms/step - loss: 0.3008 - num1_loss: 0.0395 - num2_loss: 0.1264 - num3_loss: 0.1349 - num1_acc: 0.9854 - num2_acc: 0.9602 - num3_acc: 0.9576 - val_loss: 0.2593 - val_num1_loss: 0.0336 - val_num2_loss: 0.1088 - val_num3_loss: 0.1169 - val_num1_acc: 0.9881 - val_num2_acc: 0.9671 - val_num3_acc: 0.9640\n",
      "Epoch 19/60\n",
      "4978/4978 [==============================] - 1751s 352ms/step - loss: 0.2966 - num1_loss: 0.0386 - num2_loss: 0.1242 - num3_loss: 0.1338 - num1_acc: 0.9856 - num2_acc: 0.9609 - num3_acc: 0.9577 - val_loss: 0.2903 - val_num1_loss: 0.0437 - val_num2_loss: 0.1208 - val_num3_loss: 0.1258 - val_num1_acc: 0.9832 - val_num2_acc: 0.9625 - val_num3_acc: 0.9615\n",
      "Epoch 20/60\n",
      "4978/4978 [==============================] - 1728s 347ms/step - loss: 0.2982 - num1_loss: 0.0391 - num2_loss: 0.1245 - num3_loss: 0.1347 - num1_acc: 0.9856 - num2_acc: 0.9606 - num3_acc: 0.9573 - val_loss: 0.2732 - val_num1_loss: 0.0371 - val_num2_loss: 0.1128 - val_num3_loss: 0.1233 - val_num1_acc: 0.9867 - val_num2_acc: 0.9649 - val_num3_acc: 0.9612\n",
      "Epoch 21/60\n",
      "4978/4978 [==============================] - 1711s 344ms/step - loss: 0.2967 - num1_loss: 0.0386 - num2_loss: 0.1245 - num3_loss: 0.1337 - num1_acc: 0.9860 - num2_acc: 0.9609 - num3_acc: 0.9577 - val_loss: 0.2790 - val_num1_loss: 0.0357 - val_num2_loss: 0.1161 - val_num3_loss: 0.1271 - val_num1_acc: 0.9868 - val_num2_acc: 0.9651 - val_num3_acc: 0.9625\n",
      "Epoch 22/60\n",
      "4978/4978 [==============================] - 1704s 342ms/step - loss: 0.2972 - num1_loss: 0.0393 - num2_loss: 0.1241 - num3_loss: 0.1338 - num1_acc: 0.9855 - num2_acc: 0.9610 - num3_acc: 0.9578 - val_loss: 0.2626 - val_num1_loss: 0.0344 - val_num2_loss: 0.1097 - val_num3_loss: 0.1185 - val_num1_acc: 0.9874 - val_num2_acc: 0.9668 - val_num3_acc: 0.9647\n",
      "Epoch 23/60\n",
      "4978/4978 [==============================] - 1703s 342ms/step - loss: 0.2962 - num1_loss: 0.0380 - num2_loss: 0.1244 - num3_loss: 0.1338 - num1_acc: 0.9859 - num2_acc: 0.9607 - num3_acc: 0.9579 - val_loss: 0.2710 - val_num1_loss: 0.0344 - val_num2_loss: 0.1145 - val_num3_loss: 0.1221 - val_num1_acc: 0.9872 - val_num2_acc: 0.9652 - val_num3_acc: 0.9628\n",
      "Epoch 24/60\n",
      "4978/4978 [==============================] - 1700s 341ms/step - loss: 0.2983 - num1_loss: 0.0394 - num2_loss: 0.1247 - num3_loss: 0.1343 - num1_acc: 0.9854 - num2_acc: 0.9605 - num3_acc: 0.9578 - val_loss: 0.2647 - val_num1_loss: 0.0363 - val_num2_loss: 0.1100 - val_num3_loss: 0.1184 - val_num1_acc: 0.9870 - val_num2_acc: 0.9664 - val_num3_acc: 0.9631\n",
      "Epoch 25/60\n",
      "4978/4978 [==============================] - 1714s 344ms/step - loss: 0.2965 - num1_loss: 0.0384 - num2_loss: 0.1246 - num3_loss: 0.1335 - num1_acc: 0.9859 - num2_acc: 0.9606 - num3_acc: 0.9579 - val_loss: 0.2564 - val_num1_loss: 0.0341 - val_num2_loss: 0.1078 - val_num3_loss: 0.1145 - val_num1_acc: 0.9880 - val_num2_acc: 0.9673 - val_num3_acc: 0.9653\n",
      "Epoch 26/60\n",
      "4978/4978 [==============================] - 1708s 343ms/step - loss: 0.2953 - num1_loss: 0.0383 - num2_loss: 0.1229 - num3_loss: 0.1341 - num1_acc: 0.9859 - num2_acc: 0.9612 - num3_acc: 0.9580 - val_loss: 0.2607 - val_num1_loss: 0.0345 - val_num2_loss: 0.1075 - val_num3_loss: 0.1187 - val_num1_acc: 0.9874 - val_num2_acc: 0.9666 - val_num3_acc: 0.9634\n",
      "Epoch 27/60\n",
      "4978/4978 [==============================] - 1713s 344ms/step - loss: 0.2956 - num1_loss: 0.0386 - num2_loss: 0.1241 - num3_loss: 0.1328 - num1_acc: 0.9857 - num2_acc: 0.9611 - num3_acc: 0.9582 - val_loss: 0.2651 - val_num1_loss: 0.0342 - val_num2_loss: 0.1134 - val_num3_loss: 0.1176 - val_num1_acc: 0.9872 - val_num2_acc: 0.9653 - val_num3_acc: 0.9637\n",
      "Epoch 28/60\n",
      "4978/4978 [==============================] - 1712s 344ms/step - loss: 0.2943 - num1_loss: 0.0386 - num2_loss: 0.1237 - num3_loss: 0.1320 - num1_acc: 0.9857 - num2_acc: 0.9609 - num3_acc: 0.9583 - val_loss: 0.2670 - val_num1_loss: 0.0330 - val_num2_loss: 0.1130 - val_num3_loss: 0.1210 - val_num1_acc: 0.9875 - val_num2_acc: 0.9654 - val_num3_acc: 0.9633\n",
      "Epoch 29/60\n",
      "4978/4978 [==============================] - 1703s 342ms/step - loss: 0.2965 - num1_loss: 0.0385 - num2_loss: 0.1247 - num3_loss: 0.1333 - num1_acc: 0.9856 - num2_acc: 0.9607 - num3_acc: 0.9583 - val_loss: 0.2694 - val_num1_loss: 0.0354 - val_num2_loss: 0.1110 - val_num3_loss: 0.1230 - val_num1_acc: 0.9865 - val_num2_acc: 0.9655 - val_num3_acc: 0.9625\n",
      "Epoch 30/60\n",
      "4978/4978 [==============================] - 1717s 345ms/step - loss: 0.2956 - num1_loss: 0.0389 - num2_loss: 0.1241 - num3_loss: 0.1326 - num1_acc: 0.9857 - num2_acc: 0.9609 - num3_acc: 0.9581 - val_loss: 0.2706 - val_num1_loss: 0.0381 - val_num2_loss: 0.1114 - val_num3_loss: 0.1211 - val_num1_acc: 0.9862 - val_num2_acc: 0.9663 - val_num3_acc: 0.9633\n",
      "Epoch 31/60\n",
      "4978/4978 [==============================] - 1711s 344ms/step - loss: 0.2954 - num1_loss: 0.0386 - num2_loss: 0.1234 - num3_loss: 0.1334 - num1_acc: 0.9857 - num2_acc: 0.9611 - num3_acc: 0.9582 - val_loss: 0.2699 - val_num1_loss: 0.0355 - val_num2_loss: 0.1120 - val_num3_loss: 0.1224 - val_num1_acc: 0.9870 - val_num2_acc: 0.9651 - val_num3_acc: 0.9620\n",
      "Epoch 32/60\n",
      "4978/4978 [==============================] - 175977s 35s/step - loss: 0.2943 - num1_loss: 0.0384 - num2_loss: 0.1235 - num3_loss: 0.1324 - num1_acc: 0.9858 - num2_acc: 0.9608 - num3_acc: 0.9583 - val_loss: 0.2606 - val_num1_loss: 0.0356 - val_num2_loss: 0.1076 - val_num3_loss: 0.1174 - val_num1_acc: 0.9875 - val_num2_acc: 0.9670 - val_num3_acc: 0.9647\n",
      "Epoch 33/60\n",
      "4978/4978 [==============================] - 2623s 527ms/step - loss: 0.2933 - num1_loss: 0.0383 - num2_loss: 0.1230 - num3_loss: 0.1320 - num1_acc: 0.9860 - num2_acc: 0.9613 - num3_acc: 0.9585 - val_loss: 0.2603 - val_num1_loss: 0.0357 - val_num2_loss: 0.1090 - val_num3_loss: 0.1156 - val_num1_acc: 0.9866 - val_num2_acc: 0.9670 - val_num3_acc: 0.9643\n",
      "Epoch 34/60\n",
      "4978/4978 [==============================] - 1705s 343ms/step - loss: 0.2929 - num1_loss: 0.0380 - num2_loss: 0.1227 - num3_loss: 0.1323 - num1_acc: 0.9860 - num2_acc: 0.9611 - num3_acc: 0.9584 - val_loss: 0.2566 - val_num1_loss: 0.0336 - val_num2_loss: 0.1086 - val_num3_loss: 0.1144 - val_num1_acc: 0.9878 - val_num2_acc: 0.9673 - val_num3_acc: 0.9652\n",
      "Epoch 35/60\n",
      "4978/4978 [==============================] - 1706s 343ms/step - loss: 0.2940 - num1_loss: 0.0385 - num2_loss: 0.1233 - num3_loss: 0.1322 - num1_acc: 0.9859 - num2_acc: 0.9612 - num3_acc: 0.9585 - val_loss: 0.2659 - val_num1_loss: 0.0372 - val_num2_loss: 0.1098 - val_num3_loss: 0.1189 - val_num1_acc: 0.9873 - val_num2_acc: 0.9664 - val_num3_acc: 0.9645\n",
      "Epoch 36/60\n",
      "4978/4978 [==============================] - 1701s 342ms/step - loss: 0.2930 - num1_loss: 0.0386 - num2_loss: 0.1221 - num3_loss: 0.1323 - num1_acc: 0.9860 - num2_acc: 0.9614 - num3_acc: 0.9584 - val_loss: 0.2681 - val_num1_loss: 0.0362 - val_num2_loss: 0.1109 - val_num3_loss: 0.1210 - val_num1_acc: 0.9863 - val_num2_acc: 0.9655 - val_num3_acc: 0.9623\n",
      "Epoch 37/60\n",
      "4978/4978 [==============================] - 1709s 343ms/step - loss: 0.2933 - num1_loss: 0.0388 - num2_loss: 0.1232 - num3_loss: 0.1314 - num1_acc: 0.9856 - num2_acc: 0.9613 - num3_acc: 0.9585 - val_loss: 0.2646 - val_num1_loss: 0.0364 - val_num2_loss: 0.1124 - val_num3_loss: 0.1159 - val_num1_acc: 0.9870 - val_num2_acc: 0.9665 - val_num3_acc: 0.9647\n",
      "Epoch 38/60\n",
      "4978/4978 [==============================] - 1703s 342ms/step - loss: 0.2931 - num1_loss: 0.0381 - num2_loss: 0.1228 - num3_loss: 0.1322 - num1_acc: 0.9858 - num2_acc: 0.9611 - num3_acc: 0.9582 - val_loss: 0.2707 - val_num1_loss: 0.0373 - val_num2_loss: 0.1144 - val_num3_loss: 0.1189 - val_num1_acc: 0.9862 - val_num2_acc: 0.9647 - val_num3_acc: 0.9631\n",
      "Epoch 39/60\n",
      "4978/4978 [==============================] - 1701s 342ms/step - loss: 0.2907 - num1_loss: 0.0382 - num2_loss: 0.1220 - num3_loss: 0.1306 - num1_acc: 0.9860 - num2_acc: 0.9615 - num3_acc: 0.9591 - val_loss: 0.2753 - val_num1_loss: 0.0365 - val_num2_loss: 0.1139 - val_num3_loss: 0.1249 - val_num1_acc: 0.9862 - val_num2_acc: 0.9648 - val_num3_acc: 0.9616\n",
      "Epoch 40/60\n",
      "4978/4978 [==============================] - 1786s 359ms/step - loss: 0.2919 - num1_loss: 0.0384 - num2_loss: 0.1227 - num3_loss: 0.1308 - num1_acc: 0.9858 - num2_acc: 0.9615 - num3_acc: 0.9587 - val_loss: 0.2707 - val_num1_loss: 0.0369 - val_num2_loss: 0.1120 - val_num3_loss: 0.1218 - val_num1_acc: 0.9856 - val_num2_acc: 0.9650 - val_num3_acc: 0.9622\n",
      "Epoch 41/60\n",
      "4978/4978 [==============================] - 1973s 396ms/step - loss: 0.2902 - num1_loss: 0.0386 - num2_loss: 0.1215 - num3_loss: 0.1301 - num1_acc: 0.9857 - num2_acc: 0.9617 - num3_acc: 0.9590 - val_loss: 0.2634 - val_num1_loss: 0.0350 - val_num2_loss: 0.1079 - val_num3_loss: 0.1205 - val_num1_acc: 0.9872 - val_num2_acc: 0.9673 - val_num3_acc: 0.9630\n",
      "Epoch 42/60\n",
      "4978/4978 [==============================] - 1662s 334ms/step - loss: 0.2918 - num1_loss: 0.0383 - num2_loss: 0.1221 - num3_loss: 0.1313 - num1_acc: 0.9859 - num2_acc: 0.9616 - num3_acc: 0.9586 - val_loss: 0.2838 - val_num1_loss: 0.0414 - val_num2_loss: 0.1170 - val_num3_loss: 0.1253 - val_num1_acc: 0.9853 - val_num2_acc: 0.9641 - val_num3_acc: 0.9614\n",
      "Epoch 43/60\n",
      "4978/4978 [==============================] - 1669s 335ms/step - loss: 0.2928 - num1_loss: 0.0386 - num2_loss: 0.1226 - num3_loss: 0.1315 - num1_acc: 0.9858 - num2_acc: 0.9616 - num3_acc: 0.9587 - val_loss: 0.2778 - val_num1_loss: 0.0384 - val_num2_loss: 0.1151 - val_num3_loss: 0.1244 - val_num1_acc: 0.9862 - val_num2_acc: 0.9646 - val_num3_acc: 0.9625\n",
      "Epoch 44/60\n",
      "4978/4978 [==============================] - 1659s 333ms/step - loss: 0.2931 - num1_loss: 0.0382 - num2_loss: 0.1227 - num3_loss: 0.1322 - num1_acc: 0.9858 - num2_acc: 0.9616 - num3_acc: 0.9587 - val_loss: 0.2715 - val_num1_loss: 0.0363 - val_num2_loss: 0.1117 - val_num3_loss: 0.1236 - val_num1_acc: 0.9863 - val_num2_acc: 0.9667 - val_num3_acc: 0.9636\n",
      "Epoch 45/60\n",
      "4978/4978 [==============================] - 1662s 334ms/step - loss: 0.2888 - num1_loss: 0.0378 - num2_loss: 0.1211 - num3_loss: 0.1298 - num1_acc: 0.9859 - num2_acc: 0.9618 - num3_acc: 0.9591 - val_loss: 0.2598 - val_num1_loss: 0.0332 - val_num2_loss: 0.1092 - val_num3_loss: 0.1174 - val_num1_acc: 0.9874 - val_num2_acc: 0.9661 - val_num3_acc: 0.9643\n",
      "Epoch 46/60\n",
      "4978/4978 [==============================] - 1666s 335ms/step - loss: 0.2901 - num1_loss: 0.0385 - num2_loss: 0.1211 - num3_loss: 0.1305 - num1_acc: 0.9857 - num2_acc: 0.9622 - num3_acc: 0.9590 - val_loss: 0.2730 - val_num1_loss: 0.0403 - val_num2_loss: 0.1115 - val_num3_loss: 0.1213 - val_num1_acc: 0.9849 - val_num2_acc: 0.9656 - val_num3_acc: 0.9630\n",
      "Epoch 47/60\n",
      "4978/4978 [==============================] - 1661s 334ms/step - loss: 0.2910 - num1_loss: 0.0381 - num2_loss: 0.1225 - num3_loss: 0.1304 - num1_acc: 0.9859 - num2_acc: 0.9616 - num3_acc: 0.9591 - val_loss: 0.2613 - val_num1_loss: 0.0348 - val_num2_loss: 0.1079 - val_num3_loss: 0.1186 - val_num1_acc: 0.9874 - val_num2_acc: 0.9665 - val_num3_acc: 0.9636\n",
      "Epoch 48/60\n",
      "4978/4978 [==============================] - 1666s 335ms/step - loss: 0.2913 - num1_loss: 0.0385 - num2_loss: 0.1214 - num3_loss: 0.1315 - num1_acc: 0.9858 - num2_acc: 0.9620 - num3_acc: 0.9589 - val_loss: 0.2564 - val_num1_loss: 0.0341 - val_num2_loss: 0.1083 - val_num3_loss: 0.1140 - val_num1_acc: 0.9875 - val_num2_acc: 0.9665 - val_num3_acc: 0.9649\n",
      "Epoch 49/60\n",
      "4978/4978 [==============================] - 2161s 434ms/step - loss: 0.2920 - num1_loss: 0.0386 - num2_loss: 0.1222 - num3_loss: 0.1312 - num1_acc: 0.9859 - num2_acc: 0.9615 - num3_acc: 0.9587 - val_loss: 0.2573 - val_num1_loss: 0.0356 - val_num2_loss: 0.1074 - val_num3_loss: 0.1142 - val_num1_acc: 0.9871 - val_num2_acc: 0.9665 - val_num3_acc: 0.9654\n",
      "Epoch 50/60\n",
      "2569/4978 [==============>...............] - ETA: 21:26 - loss: 0.2883 - num1_loss: 0.0382 - num2_loss: 0.1211 - num3_loss: 0.1290 - num1_acc: 0.9857 - num2_acc: 0.9622 - num3_acc: 0.9596"
     ]
    }
   ],
   "source": [
    "STEP_SIZE_TRAIN=train_generator.n//train_generator.batch_size\n",
    "STEP_SIZE_VALID=valid_generator.n//valid_generator.batch_size\n",
    "# STEP_SIZE_TEST=test_generator.n//test_generator.batch_size\n",
    "model.fit_generator(generator=train_generator,\n",
    "                    steps_per_epoch=STEP_SIZE_TRAIN,\n",
    "                    validation_data=valid_generator,\n",
    "                    validation_steps=STEP_SIZE_VALID,\n",
    "                    epochs=60,\n",
    "                    callbacks = [tensorboard, save_all_callback]\n",
    ")"
   ]
  },
  {
   "cell_type": "code",
   "execution_count": 16,
   "metadata": {},
   "outputs": [
    {
     "name": "stdout",
     "output_type": "stream",
     "text": [
      "embedded_qr_images_generator.py  python_tflite_benchmarker.py\n",
      "fonts\t\t\t\t README.md\n",
      "images\t\t\t\t requirements_qr.txt\n",
      "images_generator.py\t\t requirements_training_gpu.txt\n",
      "KerasOCRTrainer2.py\t\t take2.avi\n",
      "KerasOCRTrainer.py\t\t test.py\n",
      "logs\t\t\t\t trained_models\n",
      "logs2\t\t\t\t TrainingDataGenerator2.ipynb\n",
      "model_converter.py\t\t TrainingDataGenerator2.py\n",
      "models\t\t\t\t VideoShredder.py\n",
      "old_KerasOCRFromBackup.py\t vitmo_3_output_layer_training.ipynb\n",
      "__pycache__\n"
     ]
    }
   ],
   "source": [
    "! ls"
   ]
  },
  {
   "cell_type": "code",
   "execution_count": null,
   "metadata": {},
   "outputs": [],
   "source": []
  }
 ],
 "metadata": {
  "kernelspec": {
   "display_name": "Python 3",
   "language": "python",
   "name": "python3"
  },
  "language_info": {
   "codemirror_mode": {
    "name": "ipython",
    "version": 3
   },
   "file_extension": ".py",
   "mimetype": "text/x-python",
   "name": "python",
   "nbconvert_exporter": "python",
   "pygments_lexer": "ipython3",
   "version": "3.6.8"
  }
 },
 "nbformat": 4,
 "nbformat_minor": 4
}
